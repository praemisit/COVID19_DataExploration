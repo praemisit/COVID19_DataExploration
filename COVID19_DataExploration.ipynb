{
 "cells": [
  {
   "cell_type": "markdown",
   "metadata": {},
   "source": [
    "## 0. Introduction\n",
    "\n",
    "This file contains the description and the code of an analysis around the current most dominant topic of the world: The Corona crisis. It was developed as part of the Udacity education program \"Data Scientist\". \n",
    "\n",
    "**Disclaimer: The entire project and all analysis results MUST NOT be considered as scientifically proven insights about the Corona epidemic. It is a project of an inexperienced student in Data Science and its primary purpose is to \n",
    "a) finalize the Udacity Data Science training program, and \n",
    "b) to generate some insights about the potential of publicly available data in a world-wide crisis.**\n",
    "\n",
    "The analysis does follow the \"Cross-industry standard process for data mining\", in short CRISP-DM process model. Thus the first two chapter of the notebook do contain a summary of \"Business Understanding\" and \"Data Understanding\". The further steps of the CRISP-DM model are integrated into each of the 5 questions (see chapter below.)"
   ]
  },
  {
   "cell_type": "markdown",
   "metadata": {},
   "source": [
    "## 1. Business Understanding\n",
    "\n",
    "Over the first few month in 2020, the Covid-19/Corona virus pandemic has put the entire world into a serious health, social and economic crisis. The pandemic has spread rapidly, and is still spreading rapidly, across all countries. Most countries have closed their borders and shut down their normal societal and economic life.\n",
    "\n",
    "The Corona pandemic is omnipresent all over the world and many people are working hard to better understand \n",
    "\n",
    "1. how quickly the virus spreads across countries and societies,\n",
    "2. what measures might have an impact on the infection and/or death growth rate,\n",
    "3. and what the major implications of the virus pandemic will be. \n",
    "\n",
    "The insights resulting from such analysis could then be used by politicians to take decisions on if and how to either loosen or intensify societal and economical restrictions.\n",
    "\n",
    "The analysis in this project focusses on the following questions:\n",
    "\n",
    "1. Which sources of trustful data around the Corona pandemic exists?\n",
    "2. What kind of data is provided in the various sources and how can it be used to help understand, how fast the virus spreads per country?\n",
    "3. Are there significant differences between countries in how the pandemic develops? And what might be the reasons for these differences?\n",
    "4. How do the number of Corona infections and Corona deaths correlate with each other? Are there significant differences between countries?\n",
    "5. How can the implications of the Corona pandemic be measures by data?"
   ]
  },
  {
   "cell_type": "markdown",
   "metadata": {},
   "source": [
    "## 2. Data Understanding\n",
    "\n",
    "The first major challenge of such a project is to identify appropriate and trustworthy data sources. \n",
    "\n",
    "After investigation of various publically available sources, I have selected the \"European Centre for Disease Prevention and Control\" (ECDC) as data provider. The agency provides downloadable data files, which are updated daily and contain the latest available public data on COVID-19.\n",
    "\n",
    "A detailed discussion of potential data sources is included in the COVID-19 data exploration blog."
   ]
  },
  {
   "cell_type": "markdown",
   "metadata": {},
   "source": [
    "### Import libraries and gain some first insights about the provided data"
   ]
  },
  {
   "cell_type": "code",
   "execution_count": 1,
   "metadata": {},
   "outputs": [],
   "source": [
    "# Import required libraries\n",
    "import pandas as pd\n",
    "import numpy as np\n"
   ]
  },
  {
   "cell_type": "markdown",
   "metadata": {},
   "source": [
    "The ECDC dataset can be downloaded as CSV file. For this project the data from the 14th of April has been used and stored in the subfolder \"data\". From there it can be read via the standard Pandas function read_csv."
   ]
  },
  {
   "cell_type": "code",
   "execution_count": 2,
   "metadata": {},
   "outputs": [
    {
     "output_type": "execute_result",
     "data": {
      "text/plain": "      dateRep  day  month  year  cases  deaths countriesAndTerritories geoId  \\\n0  14/04/2020   14      4  2020     58       3             Afghanistan    AF   \n1  13/04/2020   13      4  2020     52       0             Afghanistan    AF   \n2  12/04/2020   12      4  2020     34       3             Afghanistan    AF   \n3  11/04/2020   11      4  2020     37       0             Afghanistan    AF   \n4  10/04/2020   10      4  2020     61       1             Afghanistan    AF   \n\n  countryterritoryCode  popData2018  \n0                  AFG   37172386.0  \n1                  AFG   37172386.0  \n2                  AFG   37172386.0  \n3                  AFG   37172386.0  \n4                  AFG   37172386.0  ",
      "text/html": "<div>\n<style scoped>\n    .dataframe tbody tr th:only-of-type {\n        vertical-align: middle;\n    }\n\n    .dataframe tbody tr th {\n        vertical-align: top;\n    }\n\n    .dataframe thead th {\n        text-align: right;\n    }\n</style>\n<table border=\"1\" class=\"dataframe\">\n  <thead>\n    <tr style=\"text-align: right;\">\n      <th></th>\n      <th>dateRep</th>\n      <th>day</th>\n      <th>month</th>\n      <th>year</th>\n      <th>cases</th>\n      <th>deaths</th>\n      <th>countriesAndTerritories</th>\n      <th>geoId</th>\n      <th>countryterritoryCode</th>\n      <th>popData2018</th>\n    </tr>\n  </thead>\n  <tbody>\n    <tr>\n      <th>0</th>\n      <td>14/04/2020</td>\n      <td>14</td>\n      <td>4</td>\n      <td>2020</td>\n      <td>58</td>\n      <td>3</td>\n      <td>Afghanistan</td>\n      <td>AF</td>\n      <td>AFG</td>\n      <td>37172386.0</td>\n    </tr>\n    <tr>\n      <th>1</th>\n      <td>13/04/2020</td>\n      <td>13</td>\n      <td>4</td>\n      <td>2020</td>\n      <td>52</td>\n      <td>0</td>\n      <td>Afghanistan</td>\n      <td>AF</td>\n      <td>AFG</td>\n      <td>37172386.0</td>\n    </tr>\n    <tr>\n      <th>2</th>\n      <td>12/04/2020</td>\n      <td>12</td>\n      <td>4</td>\n      <td>2020</td>\n      <td>34</td>\n      <td>3</td>\n      <td>Afghanistan</td>\n      <td>AF</td>\n      <td>AFG</td>\n      <td>37172386.0</td>\n    </tr>\n    <tr>\n      <th>3</th>\n      <td>11/04/2020</td>\n      <td>11</td>\n      <td>4</td>\n      <td>2020</td>\n      <td>37</td>\n      <td>0</td>\n      <td>Afghanistan</td>\n      <td>AF</td>\n      <td>AFG</td>\n      <td>37172386.0</td>\n    </tr>\n    <tr>\n      <th>4</th>\n      <td>10/04/2020</td>\n      <td>10</td>\n      <td>4</td>\n      <td>2020</td>\n      <td>61</td>\n      <td>1</td>\n      <td>Afghanistan</td>\n      <td>AF</td>\n      <td>AFG</td>\n      <td>37172386.0</td>\n    </tr>\n  </tbody>\n</table>\n</div>"
     },
     "metadata": {},
     "execution_count": 2
    }
   ],
   "source": [
    "# Read the ECDC dataset into a Pandas data frame\n",
    "filename = \"data/ECDC_COVID19_20200414.csv\"\n",
    "\n",
    "df_cases = pd.read_csv(filename)\n",
    "\n",
    "# Show some more information about the data \n",
    "df_cases.head()"
   ]
  },
  {
   "cell_type": "markdown",
   "metadata": {},
   "source": [
    "The ECDC dataset contains 10 columns:\n",
    "\n",
    "+ dateRep: Reporting day inlcuding year and month\n",
    "+ day: Reporting day\n",
    "+ month: Reporting month\n",
    "+ year: Reporing year\n",
    "+ cases: Number of new infections over the last 24h\n",
    "+ death: Number of new deaths over the last 24h\n",
    "+ countriesAndTerritories: Name of the country or territory which reported the number\n",
    "+ geoId: ID of the reporting country\n",
    "+ countryterritoryCode: Official country code of the reporting country\n",
    "+ popData2018: Size of the population of the reporting country"
   ]
  },
  {
   "cell_type": "markdown",
   "metadata": {},
   "source": [
    "Check the data types and convert as appropriate"
   ]
  },
  {
   "cell_type": "code",
   "execution_count": 3,
   "metadata": {},
   "outputs": [
    {
     "output_type": "stream",
     "name": "stdout",
     "text": "Data Types before conversion:\ndateRep                     object\nday                          int64\nmonth                        int64\nyear                         int64\ncases                        int64\ndeaths                       int64\ncountriesAndTerritories     object\ngeoId                       object\ncountryterritoryCode        object\npopData2018                float64\ndtype: object\n\nData Types after conversion:\ndateRep                    datetime64[ns]\nday                                 int64\nmonth                               int64\nyear                                int64\ncases                               int64\ndeaths                              int64\ncountriesAndTerritories            object\ngeoId                              object\ncountryterritoryCode               object\npopData2018                       float64\ndtype: object\n"
    }
   ],
   "source": [
    "# Check imported data types\n",
    "print(\"Data Types before conversion:\")\n",
    "print(df_cases.dtypes)\n",
    "\n",
    "df_cases.dateRep = pd.to_datetime(df_cases.dateRep, format='%d/%m/%Y')\n",
    "\n",
    "\n",
    "print(\"\\nData Types after conversion:\")\n",
    "print(df_cases.dtypes)"
   ]
  },
  {
   "cell_type": "markdown",
   "metadata": {},
   "source": [
    "In a next step we collect some statistics to verify the data further."
   ]
  },
  {
   "cell_type": "code",
   "execution_count": 4,
   "metadata": {},
   "outputs": [
    {
     "output_type": "stream",
     "name": "stdout",
     "text": "Overall number of rows in the data set: 10742\n\n\nFirst reporting day in the data set: 2019-12-31 00:00:00\nLatest reporting day in the data set: 2020-04-14 00:00:00\n\n\nNumber of current total infections: 1873265\nNumber of current total deaths: 118854\n\n\nNumber of unique countries or territories within the data set: 206\n\n\nNumber of NaN values per column in the data set: dateRep                      0\nday                          0\nmonth                        0\nyear                         0\ncases                        0\ndeaths                       0\ncountriesAndTerritories      0\ngeoId                       31\ncountryterritoryCode       107\npopData2018                 67\ndtype: int64\n\n\n"
    }
   ],
   "source": [
    "# Number of rows\n",
    "print(\"Overall number of rows in the data set: {}\\n\\n\".format(df_cases.shape[0]))\n",
    "\n",
    "# What are the first and latest reporint days?\n",
    "print(\"First reporting day in the data set: {}\".format(min(df_cases['dateRep'])))\n",
    "print(\"Latest reporting day in the data set: {}\\n\\n\".format(max(df_cases['dateRep'])))\n",
    "\n",
    "# Number of current total infections and total death?\n",
    "print(\"Number of current total infections: {}\".format(sum(df_cases['cases'])))\n",
    "print(\"Number of current total deaths: {}\\n\\n\".format(sum(df_cases['deaths'])))\n",
    "\n",
    "# Number of unique countries or territories\n",
    "print(\"Number of unique countries or territories within the data set: {}\\n\\n\".format(df_cases.countriesAndTerritories.nunique()))\n",
    "\n",
    "# Are there any NaN values in the data set?\n",
    "print(\"Number of NaN values per column in the data set: {}\\n\\n\".format(df_cases.isna().sum()))\n",
    ""
   ]
  },
  {
   "cell_type": "markdown",
   "metadata": {},
   "source": [
    "Some rows have no geoID, CountryterritoryCode or popData2018. Lets analyse these rows in more detail and adjust as appropriate."
   ]
  },
  {
   "cell_type": "markdown",
   "metadata": {},
   "source": [
    "#### Data Understanding Results\n",
    "\n",
    "This first analysis of the data and of the data quality shows that there are some issues, which we need to consider in the subsequent data mining activities. To just name a few: All columns have dtype=object, column names are strange and might cause problems, many missing values."
   ]
  },
  {
   "cell_type": "markdown",
   "metadata": {},
   "source": [
    "## 3. General Data Preparation\n",
    "\n",
    "ECDC's daily data files contain the number of newly reported cases and deaths. As we want to analyse the growth rate per country, we will convert the data into a pivoted table with cumlative cases and deaths."
   ]
  },
  {
   "cell_type": "code",
   "execution_count": null,
   "metadata": {},
   "outputs": [],
   "source": [
    "# Step 1: Make sure the data is properly sorted by country and date\n",
    "df_sorted = df_cases.sort_values(['countriesAndTerritories','dateRep'])\n",
    "\n",
    "# Step 2: Calcluate two additional columns with cumulative cases and deaths\n",
    "df_cum = df_sorted\n",
    "df_cum[\"cum_cases\"] = df_cum.groupby(['countriesAndTerritories', 'dateRep'])[\"cases\"].sum().groupby(level=0).cumsum().reset_index()[\"cases\"]\n",
    "df_cum[\"cum_deaths\"] = df_cum.groupby(['countriesAndTerritories', 'dateRep'])[\"deaths\"].sum().groupby(level=0).cumsum().reset_index()[\"deaths\"]"
   ]
  },
  {
   "cell_type": "code",
   "execution_count": null,
   "metadata": {},
   "outputs": [],
   "source": [
    "df_sorted = df_cases.sort_values(['countriesAndTerritories','dateRep'])\n",
    "\n",
    "# Step 2: Calcluate two additional columns with cumulative cases and deaths\n",
    "df_cum = df_sorted\n",
    "\n",
    "\n",
    "df_cum.groupby(['countriesAndTerritories', 'dateRep'])[\"cases\"].sum().groupby(level=0).cumsum().reset_index()[\"cases\"]"
   ]
  },
  {
   "cell_type": "markdown",
   "metadata": {},
   "source": [
    "#### Data Preparation Next Steps\n",
    "\n",
    "Further data adjustments are needed to answer the above stated questions of interest. These further data preparation activities will be performed \"by question\" to make it easier for the reader to follow the origianl train of thoughts. "
   ]
  },
  {
   "cell_type": "markdown",
   "metadata": {},
   "source": [
    "## 4. Data Understanding, Preparation, Modeling, Evaluation and Development by Question\n",
    "\n",
    "The further steps of the CRISP-DM model are integrated into each of the 4 questions (see chapter Business Understanding)"
   ]
  }
 ],
 "metadata": {
  "file_extension": ".py",
  "kernelspec": {
   "display_name": "Python 3",
   "language": "python",
   "name": "python3"
  },
  "language_info": {
   "codemirror_mode": {
    "name": "ipython",
    "version": 3
   },
   "file_extension": ".py",
   "mimetype": "text/x-python",
   "name": "python",
   "nbconvert_exporter": "python",
   "pygments_lexer": "ipython3",
   "version": "3.7.4-final"
  },
  "mimetype": "text/x-python",
  "name": "python",
  "npconvert_exporter": "python",
  "pygments_lexer": "ipython3",
  "version": 3
 },
 "nbformat": 4,
 "nbformat_minor": 2
}