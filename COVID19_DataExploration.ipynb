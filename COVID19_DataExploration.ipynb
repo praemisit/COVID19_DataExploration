{
 "cells": [
  {
   "cell_type": "markdown",
   "metadata": {},
   "source": [
    "## 0. Introduction\n",
    "\n",
    "This file contains the description and the code of an analysis around the current most dominant topic of the world: The Corona crisis. It was developed as part of the Udacity education program \"Data Scientist\". \n",
    "\n",
    "**Disclaimer: The entire project and all analysis results MUST NOT be considered as scientifically proven insights about the Corona epidemic. It is a project of an inexperienced student in Data Science and its primary purpose is to \n",
    "a) finalize the Udacity Data Science training program, and \n",
    "b) to generate some insights about the potential of publicly available data in a world-wide crisis.**\n",
    "\n",
    "The analysis does follow the \"Cross-industry standard process for data mining\", in short CRISP-DM process model. Thus the first two chapter of the notebook do contain a summary of \"Business Understanding\" and \"Data Understanding\". The further steps of the CRISP-DM model are integrated into each of the 5 questions (see chapter below.)"
   ]
  },
  {
   "cell_type": "markdown",
   "metadata": {},
   "source": [
    "## 1. Business Understanding\n",
    "\n",
    "Over the first few month in 2020, the Covid-19/Corona virus pandemic has put the entire world into a serious health, social and economic crisis. The pandemic has spread rapidly, and is still spreading rapidly, across all countries. Most countries have closed their borders and shut down their normal societal and economic life.\n",
    "\n",
    "The Corona pandemic is omnipresent all over the world and many people are working hard to better understand \n",
    "\n",
    "1. how quickly the virus spreads across countries and societies,\n",
    "2. what measures might have an impact on the infection and/or death growth rate,\n",
    "3. and what the major implications of the virus pandemic will be. \n",
    "\n",
    "The insights resulting from such analysis could then be used by politicians to take decisions on if and how to either loosen or intensify societal and economical restrictions.\n",
    "\n",
    "The analysis in this project focusses on the following questions:\n",
    "\n",
    "1. Which sources of trustful data around the Corona pandemic exists?\n",
    "2. What kind of data is provided in the various sources and how can it be used to help understand, how fast the virus spreads per country?\n",
    "3. Are there significant differences between countries in how the pandemic develops? And what might be the reasons for these differences?\n",
    "4. How do the number of Corona infections and Corona deaths correlate with each other? Are there significant differences between countries?\n",
    "5. How can the implications of the Corona pandemic be measures by data?"
   ]
  },
  {
   "cell_type": "markdown",
   "metadata": {},
   "source": [
    "## 2. Data Understanding\n",
    "\n",
    "The first major challenge of such a project is to identify appropriate and trustworthy data sources. \n",
    "\n",
    "After investigation of various publically available sources, I have selected the \"European Centre for Disease Prevention and Control\" (ECDC) as data provider. The agency provides downloadable data files, which are updated daily and contain the latest available public data on COVID-19.\n",
    "\n",
    "A detailed discussion of potential data sources is included in the COVID-19 data exploration blog."
   ]
  },
  {
   "cell_type": "markdown",
   "metadata": {},
   "source": [
    "### Import libraries and gain some first insights about the provided data"
   ]
  },
  {
   "cell_type": "code",
   "execution_count": 1,
   "metadata": {},
   "outputs": [],
   "source": [
    "# Import required libraries\n",
    "import pandas as pd\n",
    "import numpy as np\n",
    "import matplotlib.pyplot as plt\n",
    "from IPython.display import display\n",
    ""
   ]
  },
  {
   "cell_type": "markdown",
   "metadata": {},
   "source": [
    "The ECDC dataset can be downloaded as CSV file. For this project the data from the 14th of April has been used and stored in the subfolder \"data\". From there it can be read via the standard Pandas function read_csv."
   ]
  },
  {
   "cell_type": "code",
   "execution_count": 2,
   "metadata": {},
   "outputs": [
    {
     "output_type": "execute_result",
     "data": {
      "text/plain": "      dateRep  day  month  year  cases  deaths countriesAndTerritories geoId  \\\n0  14/04/2020   14      4  2020     58       3             Afghanistan    AF   \n1  13/04/2020   13      4  2020     52       0             Afghanistan    AF   \n2  12/04/2020   12      4  2020     34       3             Afghanistan    AF   \n3  11/04/2020   11      4  2020     37       0             Afghanistan    AF   \n4  10/04/2020   10      4  2020     61       1             Afghanistan    AF   \n\n  countryterritoryCode  popData2018  \n0                  AFG   37172386.0  \n1                  AFG   37172386.0  \n2                  AFG   37172386.0  \n3                  AFG   37172386.0  \n4                  AFG   37172386.0  ",
      "text/html": "<div>\n<style scoped>\n    .dataframe tbody tr th:only-of-type {\n        vertical-align: middle;\n    }\n\n    .dataframe tbody tr th {\n        vertical-align: top;\n    }\n\n    .dataframe thead th {\n        text-align: right;\n    }\n</style>\n<table border=\"1\" class=\"dataframe\">\n  <thead>\n    <tr style=\"text-align: right;\">\n      <th></th>\n      <th>dateRep</th>\n      <th>day</th>\n      <th>month</th>\n      <th>year</th>\n      <th>cases</th>\n      <th>deaths</th>\n      <th>countriesAndTerritories</th>\n      <th>geoId</th>\n      <th>countryterritoryCode</th>\n      <th>popData2018</th>\n    </tr>\n  </thead>\n  <tbody>\n    <tr>\n      <th>0</th>\n      <td>14/04/2020</td>\n      <td>14</td>\n      <td>4</td>\n      <td>2020</td>\n      <td>58</td>\n      <td>3</td>\n      <td>Afghanistan</td>\n      <td>AF</td>\n      <td>AFG</td>\n      <td>37172386.0</td>\n    </tr>\n    <tr>\n      <th>1</th>\n      <td>13/04/2020</td>\n      <td>13</td>\n      <td>4</td>\n      <td>2020</td>\n      <td>52</td>\n      <td>0</td>\n      <td>Afghanistan</td>\n      <td>AF</td>\n      <td>AFG</td>\n      <td>37172386.0</td>\n    </tr>\n    <tr>\n      <th>2</th>\n      <td>12/04/2020</td>\n      <td>12</td>\n      <td>4</td>\n      <td>2020</td>\n      <td>34</td>\n      <td>3</td>\n      <td>Afghanistan</td>\n      <td>AF</td>\n      <td>AFG</td>\n      <td>37172386.0</td>\n    </tr>\n    <tr>\n      <th>3</th>\n      <td>11/04/2020</td>\n      <td>11</td>\n      <td>4</td>\n      <td>2020</td>\n      <td>37</td>\n      <td>0</td>\n      <td>Afghanistan</td>\n      <td>AF</td>\n      <td>AFG</td>\n      <td>37172386.0</td>\n    </tr>\n    <tr>\n      <th>4</th>\n      <td>10/04/2020</td>\n      <td>10</td>\n      <td>4</td>\n      <td>2020</td>\n      <td>61</td>\n      <td>1</td>\n      <td>Afghanistan</td>\n      <td>AF</td>\n      <td>AFG</td>\n      <td>37172386.0</td>\n    </tr>\n  </tbody>\n</table>\n</div>"
     },
     "metadata": {},
     "execution_count": 2
    }
   ],
   "source": [
    "# Read the ECDC dataset into a Pandas data frame\n",
    "filename = \"data/ECDC_COVID19_20200414.csv\"\n",
    "\n",
    "df_cases = pd.read_csv(filename)\n",
    "\n",
    "# Show some more information about the data \n",
    "df_cases.head()"
   ]
  },
  {
   "cell_type": "markdown",
   "metadata": {},
   "source": [
    "The ECDC dataset contains 10 columns:\n",
    "\n",
    "+ dateRep: Reporting day inlcuding year and month\n",
    "+ day: Reporting day\n",
    "+ month: Reporting month\n",
    "+ year: Reporing year\n",
    "+ cases: Number of new infections over the last 24h\n",
    "+ death: Number of new deaths over the last 24h\n",
    "+ countriesAndTerritories: Name of the country or territory which reported the number\n",
    "+ geoId: ID of the reporting country\n",
    "+ countryterritoryCode: Official country code of the reporting country\n",
    "+ popData2018: Size of the population of the reporting country"
   ]
  },
  {
   "cell_type": "markdown",
   "metadata": {},
   "source": [
    "### Check the data types and convert as appropriate"
   ]
  },
  {
   "cell_type": "code",
   "execution_count": 3,
   "metadata": {},
   "outputs": [
    {
     "output_type": "stream",
     "name": "stdout",
     "text": "Data Types before conversion:\ndateRep                     object\nday                          int64\nmonth                        int64\nyear                         int64\ncases                        int64\ndeaths                       int64\ncountriesAndTerritories     object\ngeoId                       object\ncountryterritoryCode        object\npopData2018                float64\ndtype: object\n\nData Types after conversion:\ndateRep                    datetime64[ns]\nday                                 int64\nmonth                               int64\nyear                                int64\ncases                               int64\ndeaths                              int64\ncountriesAndTerritories            object\ngeoId                              object\ncountryterritoryCode               object\npopData2018                       float64\ndtype: object\n"
    }
   ],
   "source": [
    "# Check imported data types\n",
    "print(\"Data Types before conversion:\")\n",
    "print(df_cases.dtypes)\n",
    "\n",
    "df_cases.dateRep = pd.to_datetime(df_cases.dateRep, format='%d/%m/%Y')\n",
    "\n",
    "\n",
    "print(\"\\nData Types after conversion:\")\n",
    "print(df_cases.dtypes)"
   ]
  },
  {
   "cell_type": "markdown",
   "metadata": {},
   "source": [
    "### Some statistics to verify the data further."
   ]
  },
  {
   "cell_type": "code",
   "execution_count": 4,
   "metadata": {},
   "outputs": [
    {
     "output_type": "stream",
     "name": "stdout",
     "text": "Overall number of rows in the data set: 10742\n\n\nFirst reporting day in the data set: 2019-12-31 00:00:00\nLatest reporting day in the data set: 2020-04-14 00:00:00\n\n\nNumber of current total infections: 1873265\nNumber of current total deaths: 118854\n\n\nNumber of unique countries or territories within the data set: 206\n\n\nNumber of NaN values per column in the data set: dateRep                      0\nday                          0\nmonth                        0\nyear                         0\ncases                        0\ndeaths                       0\ncountriesAndTerritories      0\ngeoId                       31\ncountryterritoryCode       107\npopData2018                 67\ndtype: int64\n\n\n"
    }
   ],
   "source": [
    "# Number of rows\n",
    "print(\"Overall number of rows in the data set: {}\\n\\n\".format(df_cases.shape[0]))\n",
    "\n",
    "# What are the first and latest reporint days?\n",
    "print(\"First reporting day in the data set: {}\".format(min(df_cases['dateRep'])))\n",
    "print(\"Latest reporting day in the data set: {}\\n\\n\".format(max(df_cases['dateRep'])))\n",
    "\n",
    "# Number of current total infections and total death?\n",
    "print(\"Number of current total infections: {}\".format(sum(df_cases['cases'])))\n",
    "print(\"Number of current total deaths: {}\\n\\n\".format(sum(df_cases['deaths'])))\n",
    "\n",
    "# Number of unique countries or territories\n",
    "print(\"Number of unique countries or territories within the data set: {}\\n\\n\".format(df_cases.countriesAndTerritories.nunique()))\n",
    "\n",
    "# Are there any NaN values in the data set?\n",
    "print(\"Number of NaN values per column in the data set: {}\\n\\n\".format(df_cases.isna().sum()))\n",
    ""
   ]
  },
  {
   "cell_type": "markdown",
   "metadata": {},
   "source": [
    "Some rows have no geoID, CountryterritoryCode or popData2018. Lets analyse these rows in more detail and adjust as appropriate."
   ]
  },
  {
   "cell_type": "code",
   "execution_count": 5,
   "metadata": {},
   "outputs": [
    {
     "output_type": "stream",
     "name": "stdout",
     "text": "Countries with missing geoId:\n\tNamibia with 16 cases and 0 deaths.\n\nCountries with missing countryterritoryCode:\n\tAnguilla with 3 cases and 0 deaths.\n\tBonaire, Saint Eustatius and Saba with 4 cases and 0 deaths.\n\tCases_on_an_international_conveyance_Japan with 696 cases and 7 deaths.\n\tFalkland_Islands_(Malvinas) with 5 cases and 0 deaths.\n\nCountries with missing popData2018:\n\tAnguilla with 3 cases and 0 deaths.\n\tBonaire, Saint Eustatius and Saba with 4 cases and 0 deaths.\n\tEritrea with 34 cases and 0 deaths.\n\tFalkland_Islands_(Malvinas) with 5 cases and 0 deaths.\n"
    }
   ],
   "source": [
    "# Show countries and their number of cases / deaths, which do not have a geoID\n",
    "countries = df_cases[df_cases[\"geoId\"].isnull()][\"countriesAndTerritories\"].unique()\n",
    "print(\"Countries with missing geoId:\")\n",
    "for country in countries:\n",
    "    print(\"\\t{} with {} cases and {} deaths.\".format(country, df_cases[df_cases[\"countriesAndTerritories\"]==country][\"cases\"].sum(), df_cases[df_cases[\"countriesAndTerritories\"]==country][\"deaths\"].sum()))\n",
    "\n",
    "# Show countries and their number of cases / deaths, which do not have a countryterritoryCode\n",
    "countries = df_cases[df_cases[\"countryterritoryCode\"].isnull()][\"countriesAndTerritories\"].unique()\n",
    "print(\"\\nCountries with missing countryterritoryCode:\")\n",
    "for country in countries:\n",
    "    print(\"\\t{} with {} cases and {} deaths.\".format(country, df_cases[df_cases[\"countriesAndTerritories\"]==country][\"cases\"].sum(), df_cases[df_cases[\"countriesAndTerritories\"]==country][\"deaths\"].sum()))\n",
    "\n",
    "# Show countries and their number of cases / deaths, which do not have popData2018\n",
    "countries = df_cases[df_cases[\"popData2018\"].isnull()][\"countriesAndTerritories\"].unique()\n",
    "print(\"\\nCountries with missing popData2018:\")\n",
    "for country in countries:\n",
    "    print(\"\\t{} with {} cases and {} deaths.\".format(country, df_cases[df_cases[\"countriesAndTerritories\"]==country][\"cases\"].sum(), df_cases[df_cases[\"countriesAndTerritories\"]==country][\"deaths\"].sum()))\n",
    ""
   ]
  },
  {
   "cell_type": "markdown",
   "metadata": {},
   "source": [
    "### Data Understanding Results\n",
    "\n",
    "Overall, the ECDC dataset contains very \"clean\" and comprehensive data. More than 200 countries are included with a total of 1 873 265 infections and 118 854 deaths (as of April 14th). There are just a few NaN values, and all of them will most likely not have any major impact on the further analysis.\n",
    "\n",
    "Therefore we will continue the project based on the selected data set."
   ]
  },
  {
   "cell_type": "markdown",
   "metadata": {},
   "source": [
    "## Q1: How fast does the pandamic develop per country?\n",
    "\n",
    "After having identified a trustful data source for the development of infections and deaths, let's see how this data can be used to help understand, how fast the virus spreads per country.\n",
    "\n",
    "The following KPIs will be used to answer this question:\n",
    "+ \"Growth Rate\": Percentage growth of infections / deaths\n",
    "  + Calcuated as {number of new cases on day x} / {cumulated number of cases up to day x} * 100\n",
    "+ \"Doubling Days\": Number of days in which the number of cases doubles\n",
    "  + Calculated as {cumulated cases up to day x} / {average number of cases over the last 5 days}\n",
    "+ \"Change of Growth Rate\": Change rate of the \"Growth Rate\"\n",
    "  + Calculated as {average growth rate of (day x-5 up to day x)} / {average growth rate of (day x-6 up to day x-1)}"
   ]
  },
  {
   "cell_type": "markdown",
   "metadata": {},
   "source": [
    "### Data Preparation for Q1\n",
    "\n"
   ]
  },
  {
   "cell_type": "code",
   "execution_count": 6,
   "metadata": {},
   "outputs": [
    {
     "output_type": "execute_result",
     "data": {
      "text/plain": "     dateRep  day  month  year  cases  deaths countriesAndTerritories geoId  \\\n0 2020-04-14   14      4  2020     58       3             Afghanistan    AF   \n1 2020-04-13   13      4  2020     52       0             Afghanistan    AF   \n2 2020-04-12   12      4  2020     34       3             Afghanistan    AF   \n3 2020-04-11   11      4  2020     37       0             Afghanistan    AF   \n4 2020-04-10   10      4  2020     61       1             Afghanistan    AF   \n\n  countryterritoryCode  popData2018  \n0                  AFG   37172386.0  \n1                  AFG   37172386.0  \n2                  AFG   37172386.0  \n3                  AFG   37172386.0  \n4                  AFG   37172386.0  ",
      "text/html": "<div>\n<style scoped>\n    .dataframe tbody tr th:only-of-type {\n        vertical-align: middle;\n    }\n\n    .dataframe tbody tr th {\n        vertical-align: top;\n    }\n\n    .dataframe thead th {\n        text-align: right;\n    }\n</style>\n<table border=\"1\" class=\"dataframe\">\n  <thead>\n    <tr style=\"text-align: right;\">\n      <th></th>\n      <th>dateRep</th>\n      <th>day</th>\n      <th>month</th>\n      <th>year</th>\n      <th>cases</th>\n      <th>deaths</th>\n      <th>countriesAndTerritories</th>\n      <th>geoId</th>\n      <th>countryterritoryCode</th>\n      <th>popData2018</th>\n    </tr>\n  </thead>\n  <tbody>\n    <tr>\n      <th>0</th>\n      <td>2020-04-14</td>\n      <td>14</td>\n      <td>4</td>\n      <td>2020</td>\n      <td>58</td>\n      <td>3</td>\n      <td>Afghanistan</td>\n      <td>AF</td>\n      <td>AFG</td>\n      <td>37172386.0</td>\n    </tr>\n    <tr>\n      <th>1</th>\n      <td>2020-04-13</td>\n      <td>13</td>\n      <td>4</td>\n      <td>2020</td>\n      <td>52</td>\n      <td>0</td>\n      <td>Afghanistan</td>\n      <td>AF</td>\n      <td>AFG</td>\n      <td>37172386.0</td>\n    </tr>\n    <tr>\n      <th>2</th>\n      <td>2020-04-12</td>\n      <td>12</td>\n      <td>4</td>\n      <td>2020</td>\n      <td>34</td>\n      <td>3</td>\n      <td>Afghanistan</td>\n      <td>AF</td>\n      <td>AFG</td>\n      <td>37172386.0</td>\n    </tr>\n    <tr>\n      <th>3</th>\n      <td>2020-04-11</td>\n      <td>11</td>\n      <td>4</td>\n      <td>2020</td>\n      <td>37</td>\n      <td>0</td>\n      <td>Afghanistan</td>\n      <td>AF</td>\n      <td>AFG</td>\n      <td>37172386.0</td>\n    </tr>\n    <tr>\n      <th>4</th>\n      <td>2020-04-10</td>\n      <td>10</td>\n      <td>4</td>\n      <td>2020</td>\n      <td>61</td>\n      <td>1</td>\n      <td>Afghanistan</td>\n      <td>AF</td>\n      <td>AFG</td>\n      <td>37172386.0</td>\n    </tr>\n  </tbody>\n</table>\n</div>"
     },
     "metadata": {},
     "execution_count": 6
    }
   ],
   "source": [
    "df_cases.head()"
   ]
  },
  {
   "cell_type": "markdown",
   "metadata": {},
   "source": [
    "#### Create two new columns with cumlated cases and deaths"
   ]
  },
  {
   "cell_type": "code",
   "execution_count": 7,
   "metadata": {},
   "outputs": [],
   "source": [
    "# Step 0: Create a deep copy of the data set to be ready to start from here again\n",
    "df_cum = df_cases.copy().reset_index()\n",
    "\n",
    "# Step 1: Make sure the data is properly sorted by country and date\n",
    "df_cum = df_cum.sort_values(['countriesAndTerritories','dateRep']).reset_index()\n",
    "\n",
    "# Step 2: Calcluate two additional columns with cumulative cases and deaths\n",
    "df_cum[\"cum_cases\"] = df_cum.groupby(['countriesAndTerritories', 'dateRep'])[\"cases\", \"deaths\"].sum().groupby(level=0).cumsum().reset_index()[[\"cases\", \"deaths\"]][\"cases\"]\n",
    "df_cum[\"cum_deaths\"] = df_cum.groupby(['countriesAndTerritories', 'dateRep'])[\"cases\", \"deaths\"].sum().groupby(level=0).cumsum().reset_index()[[\"cases\", \"deaths\"]][\"deaths\"]\n",
    "\n",
    "# Step 3: Get rid of additional columns created in the steps before\n",
    "df_cum = df_cum[[\"dateRep\", \"day\", \"month\", \"year\", \"cases\", \"deaths\", \"countriesAndTerritories\", \"geoId\", \"countryterritoryCode\", \"popData2018\", \"cum_cases\", \"cum_deaths\"]]"
   ]
  },
  {
   "cell_type": "markdown",
   "metadata": {},
   "source": [
    "#### Create columns growth_rate_cases and growth_rate_deaths\n",
    "\n",
    "The formula to be used is {number of new cases on day x} / {cumulated number of cases up to day x} * 100"
   ]
  },
  {
   "cell_type": "code",
   "execution_count": 72,
   "metadata": {},
   "outputs": [],
   "source": [
    "# Step 0: Create a deep copy of the data set to be ready to start from here again\n",
    "df_cum_gr = df_cum.copy()\n",
    "\n",
    "# Step 1: Calculate two new columns based on the formula {number of new cases on day x} / {cumulated number of cases up to day x} * 100\n",
    "df_cum_gr[\"growth_rate_cases\"] = df_cum[df_cum[\"cum_cases\"]>1][\"cases\"] / df_cum[df_cum[\"cum_cases\"]>=1][\"cum_cases\"] * 100\n",
    "df_cum_gr[\"growth_rate_deaths\"] = df_cum[df_cum[\"cum_deaths\"]>1][\"deaths\"] / df_cum[df_cum[\"cum_deaths\"]>=1][\"cum_deaths\"] * 100"
   ]
  },
  {
   "cell_type": "markdown",
   "metadata": {},
   "source": [
    "#### Create columns double_days_cases and double_days_deaths\n",
    "\n",
    "The formula to be used is {cumulated cases up to day x} / {average number of cases over the last 5 days}. For each country we first calculate the rolling cumulated cases / deaths per 5 days. Then we apply the before mentioned function."
   ]
  },
  {
   "cell_type": "code",
   "execution_count": 114,
   "metadata": {},
   "outputs": [],
   "source": [
    "# Step 1: Get the list of countries\n",
    "countries = list(df_cum_gr.countriesAndTerritories.unique())\n",
    "\n",
    "# Step 2: Create the target data frame with two additional columns to hold the rolling cumulated cases per 5 days\n",
    "new_cols = list(df_cum_gr.columns)\n",
    "new_cols.extend([\"rol_cases\",\"rol_deaths\"])\n",
    "df_cum_gr_d = pd.DataFrame(columns=new_cols)\n",
    "\n",
    "# Step 3: For each country calculate the rolling sum of cases and death for the last 5 days\n",
    "for country in countries:\n",
    "    df = df_cum_gr[df_cum_gr[\"countriesAndTerritories\"] == country].copy()\n",
    "    df[\"rol_cases\"] = df[\"cases\"].rolling(min_periods=1, window=5).sum() / 5\n",
    "    df[\"rol_deaths\"] = df[\"deaths\"].rolling(min_periods=1, window=5).sum() / 5\n",
    "    df_cum_gr_d = pd.concat([df_cum_gr_d, df])\n",
    "\n",
    "# Step 4: Calculate the final figures\n",
    "df_cum_gr_d[\"rol_cases\"].replace(0, np.nan, inplace=True) # to avoid division by zero errors\n",
    "df_cum_gr_d[\"rol_deaths\"].replace(0, np.nan, inplace=True) # to avoid division by zero errors\n",
    "df_cum_gr_d[\"double_days_cases\"] = df_cum_gr_d[\"cum_cases\"] / df_cum_gr_d[\"rol_cases\"]\n",
    "df_cum_gr_d[\"double_days_deaths\"] = df_cum_gr_d[\"cum_deaths\"] / df_cum_gr_d[\"rol_deaths\"]"
   ]
  },
  {
   "cell_type": "code",
   "execution_count": null,
   "metadata": {},
   "outputs": [],
   "source": []
  },
  {
   "cell_type": "code",
   "execution_count": null,
   "metadata": {},
   "outputs": [],
   "source": []
  },
  {
   "cell_type": "code",
   "execution_count": null,
   "metadata": {},
   "outputs": [],
   "source": []
  },
  {
   "cell_type": "code",
   "execution_count": null,
   "metadata": {},
   "outputs": [],
   "source": []
  },
  {
   "cell_type": "code",
   "execution_count": null,
   "metadata": {},
   "outputs": [],
   "source": []
  },
  {
   "cell_type": "code",
   "execution_count": null,
   "metadata": {},
   "outputs": [],
   "source": []
  },
  {
   "cell_type": "code",
   "execution_count": null,
   "metadata": {},
   "outputs": [],
   "source": []
  },
  {
   "cell_type": "code",
   "execution_count": null,
   "metadata": {},
   "outputs": [],
   "source": []
  },
  {
   "cell_type": "code",
   "execution_count": null,
   "metadata": {},
   "outputs": [],
   "source": []
  },
  {
   "cell_type": "code",
   "execution_count": null,
   "metadata": {},
   "outputs": [],
   "source": []
  },
  {
   "cell_type": "code",
   "execution_count": null,
   "metadata": {},
   "outputs": [],
   "source": []
  },
  {
   "cell_type": "code",
   "execution_count": null,
   "metadata": {},
   "outputs": [],
   "source": []
  },
  {
   "cell_type": "code",
   "execution_count": null,
   "metadata": {},
   "outputs": [],
   "source": []
  },
  {
   "cell_type": "code",
   "execution_count": null,
   "metadata": {},
   "outputs": [],
   "source": []
  },
  {
   "cell_type": "code",
   "execution_count": null,
   "metadata": {},
   "outputs": [],
   "source": []
  },
  {
   "cell_type": "markdown",
   "metadata": {},
   "source": [
    "## 3. General Data Preparation\n",
    "\n",
    "ECDC's data files contain the number of newly reported cases and deaths per day. As we want to analyse the growth rate per country, we will convert the data into two cumlated and pivoted tables. One with with cumlative cases and one with cumlated deaths."
   ]
  },
  {
   "cell_type": "markdown",
   "metadata": {},
   "source": [
    "### Create two new columns with cumlated cases and deaths"
   ]
  },
  {
   "cell_type": "code",
   "execution_count": 6,
   "metadata": {},
   "outputs": [],
   "source": [
    "# Step 1: Make sure the data is properly sorted by country and date\n",
    "df_sorted = df_cases.sort_values(['countriesAndTerritories','dateRep'])\n",
    "\n",
    "# Step 2: Calcluate two additional columns with cumulative cases and deaths\n",
    "df_cum = df_sorted.copy().reset_index()\n",
    "\n",
    "df_cum[\"cum_cases\"] = df_cum.groupby(['countriesAndTerritories', 'dateRep'])[\"cases\"].sum().groupby(level=0).cumsum().reset_index()[\"cases\"]\n",
    "\n",
    "df_cum[\"cum_deaths\"] = df_cum.groupby(['countriesAndTerritories', 'dateRep'])[\"deaths\"].sum().groupby(level=0).cumsum().reset_index()[\"deaths\"]"
   ]
  },
  {
   "cell_type": "markdown",
   "metadata": {},
   "source": [
    "### Create two new data-frames with pivoted data on the cumulated numbers"
   ]
  },
  {
   "cell_type": "code",
   "execution_count": 36,
   "metadata": {},
   "outputs": [],
   "source": [
    "df_cases_piv = pd.pivot_table(df_cum,index='dateRep',columns='countriesAndTerritories',values='cum_cases').reset_index()\n",
    "df_deaths_piv = pd.pivot_table(df_cum,index='dateRep',columns='countriesAndTerritories',values='cum_deaths').reset_index()"
   ]
  },
  {
   "cell_type": "code",
   "execution_count": 38,
   "metadata": {},
   "outputs": [
    {
     "output_type": "execute_result",
     "data": {
      "text/plain": "countriesAndTerritories    dateRep  Afghanistan  Albania  Algeria  Andorra  \\\n0                       2019-12-31          0.0      NaN      0.0      NaN   \n1                       2020-01-01          0.0      NaN      0.0      NaN   \n2                       2020-01-02          0.0      NaN      0.0      NaN   \n3                       2020-01-03          0.0      NaN      0.0      NaN   \n4                       2020-01-04          0.0      NaN      0.0      NaN   \n..                             ...          ...      ...      ...      ...   \n101                     2020-04-10        484.0    409.0   1666.0    583.0   \n102                     2020-04-11        521.0    416.0   1761.0    601.0   \n103                     2020-04-12        555.0    433.0   1825.0    622.0   \n104                     2020-04-13        607.0    446.0   1914.0    638.0   \n105                     2020-04-14        665.0    467.0   1983.0    646.0   \n\ncountriesAndTerritories  Angola  Anguilla  Antigua_and_Barbuda  Argentina  \\\n0                           NaN       NaN                  NaN        NaN   \n1                           NaN       NaN                  NaN        NaN   \n2                           NaN       NaN                  NaN        NaN   \n3                           NaN       NaN                  NaN        NaN   \n4                           NaN       NaN                  NaN        NaN   \n..                          ...       ...                  ...        ...   \n101                        19.0       3.0                 19.0     1894.0   \n102                        19.0       3.0                 21.0     1975.0   \n103                        19.0       3.0                 21.0     2137.0   \n104                        19.0       3.0                 21.0     2203.0   \n105                        19.0       3.0                 23.0     2272.0   \n\ncountriesAndTerritories  Armenia  ...  United_Republic_of_Tanzania  \\\n0                            0.0  ...                          NaN   \n1                            0.0  ...                          NaN   \n2                            0.0  ...                          NaN   \n3                            0.0  ...                          NaN   \n4                            0.0  ...                          NaN   \n..                           ...  ...                          ...   \n101                        921.0  ...                         25.0   \n102                        937.0  ...                         32.0   \n103                        967.0  ...                         32.0   \n104                       1013.0  ...                         32.0   \n105                       1039.0  ...                         46.0   \n\ncountriesAndTerritories  United_States_Virgin_Islands  \\\n0                                                 NaN   \n1                                                 NaN   \n2                                                 NaN   \n3                                                 NaN   \n4                                                 NaN   \n..                                                ...   \n101                                              50.0   \n102                                              50.0   \n103                                              51.0   \n104                                              51.0   \n105                                              51.0   \n\ncountriesAndTerritories  United_States_of_America  Uruguay  Uzbekistan  \\\n0                                             0.0      NaN         NaN   \n1                                             0.0      NaN         NaN   \n2                                             0.0      NaN         NaN   \n3                                             0.0      NaN         NaN   \n4                                             0.0      NaN         NaN   \n..                                            ...      ...         ...   \n101                                      466033.0    473.0       582.0   \n102                                      501560.0    494.0       624.0   \n103                                      529951.0    501.0       796.0   \n104                                      557571.0    512.0       865.0   \n105                                      582594.0    521.0       998.0   \n\ncountriesAndTerritories  Venezuela  Vietnam  Yemen  Zambia  Zimbabwe  \n0                              NaN      0.0    NaN     NaN       NaN  \n1                              NaN      0.0    NaN     NaN       NaN  \n2                              NaN      0.0    NaN     NaN       NaN  \n3                              NaN      0.0    NaN     NaN       NaN  \n4                              NaN      0.0    NaN     NaN       NaN  \n..                             ...      ...    ...     ...       ...  \n101                          171.0    255.0    1.0    39.0      11.0  \n102                          175.0    257.0    1.0    40.0      11.0  \n103                          175.0    258.0    1.0    40.0      14.0  \n104                          181.0    262.0    1.0    43.0      14.0  \n105                          189.0    265.0    1.0    45.0      17.0  \n\n[106 rows x 207 columns]",
      "text/html": "<div>\n<style scoped>\n    .dataframe tbody tr th:only-of-type {\n        vertical-align: middle;\n    }\n\n    .dataframe tbody tr th {\n        vertical-align: top;\n    }\n\n    .dataframe thead th {\n        text-align: right;\n    }\n</style>\n<table border=\"1\" class=\"dataframe\">\n  <thead>\n    <tr style=\"text-align: right;\">\n      <th>countriesAndTerritories</th>\n      <th>dateRep</th>\n      <th>Afghanistan</th>\n      <th>Albania</th>\n      <th>Algeria</th>\n      <th>Andorra</th>\n      <th>Angola</th>\n      <th>Anguilla</th>\n      <th>Antigua_and_Barbuda</th>\n      <th>Argentina</th>\n      <th>Armenia</th>\n      <th>...</th>\n      <th>United_Republic_of_Tanzania</th>\n      <th>United_States_Virgin_Islands</th>\n      <th>United_States_of_America</th>\n      <th>Uruguay</th>\n      <th>Uzbekistan</th>\n      <th>Venezuela</th>\n      <th>Vietnam</th>\n      <th>Yemen</th>\n      <th>Zambia</th>\n      <th>Zimbabwe</th>\n    </tr>\n  </thead>\n  <tbody>\n    <tr>\n      <th>0</th>\n      <td>2019-12-31</td>\n      <td>0.0</td>\n      <td>NaN</td>\n      <td>0.0</td>\n      <td>NaN</td>\n      <td>NaN</td>\n      <td>NaN</td>\n      <td>NaN</td>\n      <td>NaN</td>\n      <td>0.0</td>\n      <td>...</td>\n      <td>NaN</td>\n      <td>NaN</td>\n      <td>0.0</td>\n      <td>NaN</td>\n      <td>NaN</td>\n      <td>NaN</td>\n      <td>0.0</td>\n      <td>NaN</td>\n      <td>NaN</td>\n      <td>NaN</td>\n    </tr>\n    <tr>\n      <th>1</th>\n      <td>2020-01-01</td>\n      <td>0.0</td>\n      <td>NaN</td>\n      <td>0.0</td>\n      <td>NaN</td>\n      <td>NaN</td>\n      <td>NaN</td>\n      <td>NaN</td>\n      <td>NaN</td>\n      <td>0.0</td>\n      <td>...</td>\n      <td>NaN</td>\n      <td>NaN</td>\n      <td>0.0</td>\n      <td>NaN</td>\n      <td>NaN</td>\n      <td>NaN</td>\n      <td>0.0</td>\n      <td>NaN</td>\n      <td>NaN</td>\n      <td>NaN</td>\n    </tr>\n    <tr>\n      <th>2</th>\n      <td>2020-01-02</td>\n      <td>0.0</td>\n      <td>NaN</td>\n      <td>0.0</td>\n      <td>NaN</td>\n      <td>NaN</td>\n      <td>NaN</td>\n      <td>NaN</td>\n      <td>NaN</td>\n      <td>0.0</td>\n      <td>...</td>\n      <td>NaN</td>\n      <td>NaN</td>\n      <td>0.0</td>\n      <td>NaN</td>\n      <td>NaN</td>\n      <td>NaN</td>\n      <td>0.0</td>\n      <td>NaN</td>\n      <td>NaN</td>\n      <td>NaN</td>\n    </tr>\n    <tr>\n      <th>3</th>\n      <td>2020-01-03</td>\n      <td>0.0</td>\n      <td>NaN</td>\n      <td>0.0</td>\n      <td>NaN</td>\n      <td>NaN</td>\n      <td>NaN</td>\n      <td>NaN</td>\n      <td>NaN</td>\n      <td>0.0</td>\n      <td>...</td>\n      <td>NaN</td>\n      <td>NaN</td>\n      <td>0.0</td>\n      <td>NaN</td>\n      <td>NaN</td>\n      <td>NaN</td>\n      <td>0.0</td>\n      <td>NaN</td>\n      <td>NaN</td>\n      <td>NaN</td>\n    </tr>\n    <tr>\n      <th>4</th>\n      <td>2020-01-04</td>\n      <td>0.0</td>\n      <td>NaN</td>\n      <td>0.0</td>\n      <td>NaN</td>\n      <td>NaN</td>\n      <td>NaN</td>\n      <td>NaN</td>\n      <td>NaN</td>\n      <td>0.0</td>\n      <td>...</td>\n      <td>NaN</td>\n      <td>NaN</td>\n      <td>0.0</td>\n      <td>NaN</td>\n      <td>NaN</td>\n      <td>NaN</td>\n      <td>0.0</td>\n      <td>NaN</td>\n      <td>NaN</td>\n      <td>NaN</td>\n    </tr>\n    <tr>\n      <th>...</th>\n      <td>...</td>\n      <td>...</td>\n      <td>...</td>\n      <td>...</td>\n      <td>...</td>\n      <td>...</td>\n      <td>...</td>\n      <td>...</td>\n      <td>...</td>\n      <td>...</td>\n      <td>...</td>\n      <td>...</td>\n      <td>...</td>\n      <td>...</td>\n      <td>...</td>\n      <td>...</td>\n      <td>...</td>\n      <td>...</td>\n      <td>...</td>\n      <td>...</td>\n      <td>...</td>\n    </tr>\n    <tr>\n      <th>101</th>\n      <td>2020-04-10</td>\n      <td>484.0</td>\n      <td>409.0</td>\n      <td>1666.0</td>\n      <td>583.0</td>\n      <td>19.0</td>\n      <td>3.0</td>\n      <td>19.0</td>\n      <td>1894.0</td>\n      <td>921.0</td>\n      <td>...</td>\n      <td>25.0</td>\n      <td>50.0</td>\n      <td>466033.0</td>\n      <td>473.0</td>\n      <td>582.0</td>\n      <td>171.0</td>\n      <td>255.0</td>\n      <td>1.0</td>\n      <td>39.0</td>\n      <td>11.0</td>\n    </tr>\n    <tr>\n      <th>102</th>\n      <td>2020-04-11</td>\n      <td>521.0</td>\n      <td>416.0</td>\n      <td>1761.0</td>\n      <td>601.0</td>\n      <td>19.0</td>\n      <td>3.0</td>\n      <td>21.0</td>\n      <td>1975.0</td>\n      <td>937.0</td>\n      <td>...</td>\n      <td>32.0</td>\n      <td>50.0</td>\n      <td>501560.0</td>\n      <td>494.0</td>\n      <td>624.0</td>\n      <td>175.0</td>\n      <td>257.0</td>\n      <td>1.0</td>\n      <td>40.0</td>\n      <td>11.0</td>\n    </tr>\n    <tr>\n      <th>103</th>\n      <td>2020-04-12</td>\n      <td>555.0</td>\n      <td>433.0</td>\n      <td>1825.0</td>\n      <td>622.0</td>\n      <td>19.0</td>\n      <td>3.0</td>\n      <td>21.0</td>\n      <td>2137.0</td>\n      <td>967.0</td>\n      <td>...</td>\n      <td>32.0</td>\n      <td>51.0</td>\n      <td>529951.0</td>\n      <td>501.0</td>\n      <td>796.0</td>\n      <td>175.0</td>\n      <td>258.0</td>\n      <td>1.0</td>\n      <td>40.0</td>\n      <td>14.0</td>\n    </tr>\n    <tr>\n      <th>104</th>\n      <td>2020-04-13</td>\n      <td>607.0</td>\n      <td>446.0</td>\n      <td>1914.0</td>\n      <td>638.0</td>\n      <td>19.0</td>\n      <td>3.0</td>\n      <td>21.0</td>\n      <td>2203.0</td>\n      <td>1013.0</td>\n      <td>...</td>\n      <td>32.0</td>\n      <td>51.0</td>\n      <td>557571.0</td>\n      <td>512.0</td>\n      <td>865.0</td>\n      <td>181.0</td>\n      <td>262.0</td>\n      <td>1.0</td>\n      <td>43.0</td>\n      <td>14.0</td>\n    </tr>\n    <tr>\n      <th>105</th>\n      <td>2020-04-14</td>\n      <td>665.0</td>\n      <td>467.0</td>\n      <td>1983.0</td>\n      <td>646.0</td>\n      <td>19.0</td>\n      <td>3.0</td>\n      <td>23.0</td>\n      <td>2272.0</td>\n      <td>1039.0</td>\n      <td>...</td>\n      <td>46.0</td>\n      <td>51.0</td>\n      <td>582594.0</td>\n      <td>521.0</td>\n      <td>998.0</td>\n      <td>189.0</td>\n      <td>265.0</td>\n      <td>1.0</td>\n      <td>45.0</td>\n      <td>17.0</td>\n    </tr>\n  </tbody>\n</table>\n<p>106 rows × 207 columns</p>\n</div>"
     },
     "metadata": {},
     "execution_count": 38
    }
   ],
   "source": [
    "df_cases_piv"
   ]
  },
  {
   "cell_type": "code",
   "execution_count": 42,
   "metadata": {},
   "outputs": [
    {
     "output_type": "display_data",
     "data": {
      "text/plain": "<Figure size 432x288 with 1 Axes>",
      "image/svg+xml": "<?xml version=\"1.0\" encoding=\"utf-8\" standalone=\"no\"?>\r\n<!DOCTYPE svg PUBLIC \"-//W3C//DTD SVG 1.1//EN\"\r\n  \"http://www.w3.org/Graphics/SVG/1.1/DTD/svg11.dtd\">\r\n<!-- Created with matplotlib (https://matplotlib.org/) -->\r\n<svg height=\"273.394062pt\" version=\"1.1\" viewBox=\"0 0 394.375 273.394062\" width=\"394.375pt\" xmlns=\"http://www.w3.org/2000/svg\" xmlns:xlink=\"http://www.w3.org/1999/xlink\">\r\n <defs>\r\n  <style type=\"text/css\">\r\n*{stroke-linecap:butt;stroke-linejoin:round;}\r\n  </style>\r\n </defs>\r\n <g id=\"figure_1\">\r\n  <g id=\"patch_1\">\r\n   <path d=\"M 0 273.394062 \r\nL 394.375 273.394062 \r\nL 394.375 0 \r\nL 0 0 \r\nz\r\n\" style=\"fill:none;\"/>\r\n  </g>\r\n  <g id=\"axes_1\">\r\n   <g id=\"patch_2\">\r\n    <path d=\"M 52.375 224.64 \r\nL 387.175 224.64 \r\nL 387.175 7.2 \r\nL 52.375 7.2 \r\nz\r\n\" style=\"fill:#ffffff;\"/>\r\n   </g>\r\n   <g id=\"matplotlib.axis_1\">\r\n    <g id=\"xtick_1\">\r\n     <g id=\"line2d_1\">\r\n      <defs>\r\n       <path d=\"M 0 0 \r\nL 0 3.5 \r\n\" id=\"m4928951485\" style=\"stroke:#000000;stroke-width:0.8;\"/>\r\n      </defs>\r\n      <g>\r\n       <use style=\"stroke:#000000;stroke-width:0.8;\" x=\"52.375\" xlink:href=\"#m4928951485\" y=\"224.64\"/>\r\n      </g>\r\n     </g>\r\n    </g>\r\n    <g id=\"xtick_2\">\r\n     <g id=\"line2d_2\">\r\n      <g>\r\n       <use style=\"stroke:#000000;stroke-width:0.8;\" x=\"55.563571\" xlink:href=\"#m4928951485\" y=\"224.64\"/>\r\n      </g>\r\n     </g>\r\n     <g id=\"text_1\">\r\n      <!-- Jan -->\r\n      <defs>\r\n       <path d=\"M 9.8125 72.90625 \r\nL 19.671875 72.90625 \r\nL 19.671875 5.078125 \r\nQ 19.671875 -8.109375 14.671875 -14.0625 \r\nQ 9.671875 -20.015625 -1.421875 -20.015625 \r\nL -5.171875 -20.015625 \r\nL -5.171875 -11.71875 \r\nL -2.09375 -11.71875 \r\nQ 4.4375 -11.71875 7.125 -8.046875 \r\nQ 9.8125 -4.390625 9.8125 5.078125 \r\nz\r\n\" id=\"DejaVuSans-74\"/>\r\n       <path d=\"M 34.28125 27.484375 \r\nQ 23.390625 27.484375 19.1875 25 \r\nQ 14.984375 22.515625 14.984375 16.5 \r\nQ 14.984375 11.71875 18.140625 8.90625 \r\nQ 21.296875 6.109375 26.703125 6.109375 \r\nQ 34.1875 6.109375 38.703125 11.40625 \r\nQ 43.21875 16.703125 43.21875 25.484375 \r\nL 43.21875 27.484375 \r\nz\r\nM 52.203125 31.203125 \r\nL 52.203125 0 \r\nL 43.21875 0 \r\nL 43.21875 8.296875 \r\nQ 40.140625 3.328125 35.546875 0.953125 \r\nQ 30.953125 -1.421875 24.3125 -1.421875 \r\nQ 15.921875 -1.421875 10.953125 3.296875 \r\nQ 6 8.015625 6 15.921875 \r\nQ 6 25.140625 12.171875 29.828125 \r\nQ 18.359375 34.515625 30.609375 34.515625 \r\nL 43.21875 34.515625 \r\nL 43.21875 35.40625 \r\nQ 43.21875 41.609375 39.140625 45 \r\nQ 35.0625 48.390625 27.6875 48.390625 \r\nQ 23 48.390625 18.546875 47.265625 \r\nQ 14.109375 46.140625 10.015625 43.890625 \r\nL 10.015625 52.203125 \r\nQ 14.9375 54.109375 19.578125 55.046875 \r\nQ 24.21875 56 28.609375 56 \r\nQ 40.484375 56 46.34375 49.84375 \r\nQ 52.203125 43.703125 52.203125 31.203125 \r\nz\r\n\" id=\"DejaVuSans-97\"/>\r\n       <path d=\"M 54.890625 33.015625 \r\nL 54.890625 0 \r\nL 45.90625 0 \r\nL 45.90625 32.71875 \r\nQ 45.90625 40.484375 42.875 44.328125 \r\nQ 39.84375 48.1875 33.796875 48.1875 \r\nQ 26.515625 48.1875 22.3125 43.546875 \r\nQ 18.109375 38.921875 18.109375 30.90625 \r\nL 18.109375 0 \r\nL 9.078125 0 \r\nL 9.078125 54.6875 \r\nL 18.109375 54.6875 \r\nL 18.109375 46.1875 \r\nQ 21.34375 51.125 25.703125 53.5625 \r\nQ 30.078125 56 35.796875 56 \r\nQ 45.21875 56 50.046875 50.171875 \r\nQ 54.890625 44.34375 54.890625 33.015625 \r\nz\r\n\" id=\"DejaVuSans-110\"/>\r\n      </defs>\r\n      <g transform=\"translate(47.855759 239.238437)scale(0.1 -0.1)\">\r\n       <use xlink:href=\"#DejaVuSans-74\"/>\r\n       <use x=\"29.492188\" xlink:href=\"#DejaVuSans-97\"/>\r\n       <use x=\"90.771484\" xlink:href=\"#DejaVuSans-110\"/>\r\n      </g>\r\n      <!-- 2020 -->\r\n      <defs>\r\n       <path d=\"M 19.1875 8.296875 \r\nL 53.609375 8.296875 \r\nL 53.609375 0 \r\nL 7.328125 0 \r\nL 7.328125 8.296875 \r\nQ 12.9375 14.109375 22.625 23.890625 \r\nQ 32.328125 33.6875 34.8125 36.53125 \r\nQ 39.546875 41.84375 41.421875 45.53125 \r\nQ 43.3125 49.21875 43.3125 52.78125 \r\nQ 43.3125 58.59375 39.234375 62.25 \r\nQ 35.15625 65.921875 28.609375 65.921875 \r\nQ 23.96875 65.921875 18.8125 64.3125 \r\nQ 13.671875 62.703125 7.8125 59.421875 \r\nL 7.8125 69.390625 \r\nQ 13.765625 71.78125 18.9375 73 \r\nQ 24.125 74.21875 28.421875 74.21875 \r\nQ 39.75 74.21875 46.484375 68.546875 \r\nQ 53.21875 62.890625 53.21875 53.421875 \r\nQ 53.21875 48.921875 51.53125 44.890625 \r\nQ 49.859375 40.875 45.40625 35.40625 \r\nQ 44.1875 33.984375 37.640625 27.21875 \r\nQ 31.109375 20.453125 19.1875 8.296875 \r\nz\r\n\" id=\"DejaVuSans-50\"/>\r\n       <path d=\"M 31.78125 66.40625 \r\nQ 24.171875 66.40625 20.328125 58.90625 \r\nQ 16.5 51.421875 16.5 36.375 \r\nQ 16.5 21.390625 20.328125 13.890625 \r\nQ 24.171875 6.390625 31.78125 6.390625 \r\nQ 39.453125 6.390625 43.28125 13.890625 \r\nQ 47.125 21.390625 47.125 36.375 \r\nQ 47.125 51.421875 43.28125 58.90625 \r\nQ 39.453125 66.40625 31.78125 66.40625 \r\nz\r\nM 31.78125 74.21875 \r\nQ 44.046875 74.21875 50.515625 64.515625 \r\nQ 56.984375 54.828125 56.984375 36.375 \r\nQ 56.984375 17.96875 50.515625 8.265625 \r\nQ 44.046875 -1.421875 31.78125 -1.421875 \r\nQ 19.53125 -1.421875 13.0625 8.265625 \r\nQ 6.59375 17.96875 6.59375 36.375 \r\nQ 6.59375 54.828125 13.0625 64.515625 \r\nQ 19.53125 74.21875 31.78125 74.21875 \r\nz\r\n\" id=\"DejaVuSans-48\"/>\r\n      </defs>\r\n      <g transform=\"translate(42.838571 250.43625)scale(0.1 -0.1)\">\r\n       <use xlink:href=\"#DejaVuSans-50\"/>\r\n       <use x=\"63.623047\" xlink:href=\"#DejaVuSans-48\"/>\r\n       <use x=\"127.246094\" xlink:href=\"#DejaVuSans-50\"/>\r\n       <use x=\"190.869141\" xlink:href=\"#DejaVuSans-48\"/>\r\n      </g>\r\n     </g>\r\n    </g>\r\n    <g id=\"xtick_3\">\r\n     <g id=\"line2d_3\">\r\n      <g>\r\n       <use style=\"stroke:#000000;stroke-width:0.8;\" x=\"154.409286\" xlink:href=\"#m4928951485\" y=\"224.64\"/>\r\n      </g>\r\n     </g>\r\n     <g id=\"text_2\">\r\n      <!-- Feb -->\r\n      <defs>\r\n       <path d=\"M 9.8125 72.90625 \r\nL 51.703125 72.90625 \r\nL 51.703125 64.59375 \r\nL 19.671875 64.59375 \r\nL 19.671875 43.109375 \r\nL 48.578125 43.109375 \r\nL 48.578125 34.8125 \r\nL 19.671875 34.8125 \r\nL 19.671875 0 \r\nL 9.8125 0 \r\nz\r\n\" id=\"DejaVuSans-70\"/>\r\n       <path d=\"M 56.203125 29.59375 \r\nL 56.203125 25.203125 \r\nL 14.890625 25.203125 \r\nQ 15.484375 15.921875 20.484375 11.0625 \r\nQ 25.484375 6.203125 34.421875 6.203125 \r\nQ 39.59375 6.203125 44.453125 7.46875 \r\nQ 49.3125 8.734375 54.109375 11.28125 \r\nL 54.109375 2.78125 \r\nQ 49.265625 0.734375 44.1875 -0.34375 \r\nQ 39.109375 -1.421875 33.890625 -1.421875 \r\nQ 20.796875 -1.421875 13.15625 6.1875 \r\nQ 5.515625 13.8125 5.515625 26.8125 \r\nQ 5.515625 40.234375 12.765625 48.109375 \r\nQ 20.015625 56 32.328125 56 \r\nQ 43.359375 56 49.78125 48.890625 \r\nQ 56.203125 41.796875 56.203125 29.59375 \r\nz\r\nM 47.21875 32.234375 \r\nQ 47.125 39.59375 43.09375 43.984375 \r\nQ 39.0625 48.390625 32.421875 48.390625 \r\nQ 24.90625 48.390625 20.390625 44.140625 \r\nQ 15.875 39.890625 15.1875 32.171875 \r\nz\r\n\" id=\"DejaVuSans-101\"/>\r\n       <path d=\"M 48.6875 27.296875 \r\nQ 48.6875 37.203125 44.609375 42.84375 \r\nQ 40.53125 48.484375 33.40625 48.484375 \r\nQ 26.265625 48.484375 22.1875 42.84375 \r\nQ 18.109375 37.203125 18.109375 27.296875 \r\nQ 18.109375 17.390625 22.1875 11.75 \r\nQ 26.265625 6.109375 33.40625 6.109375 \r\nQ 40.53125 6.109375 44.609375 11.75 \r\nQ 48.6875 17.390625 48.6875 27.296875 \r\nz\r\nM 18.109375 46.390625 \r\nQ 20.953125 51.265625 25.265625 53.625 \r\nQ 29.59375 56 35.59375 56 \r\nQ 45.5625 56 51.78125 48.09375 \r\nQ 58.015625 40.1875 58.015625 27.296875 \r\nQ 58.015625 14.40625 51.78125 6.484375 \r\nQ 45.5625 -1.421875 35.59375 -1.421875 \r\nQ 29.59375 -1.421875 25.265625 0.953125 \r\nQ 20.953125 3.328125 18.109375 8.203125 \r\nL 18.109375 0 \r\nL 9.078125 0 \r\nL 9.078125 75.984375 \r\nL 18.109375 75.984375 \r\nz\r\n\" id=\"DejaVuSans-98\"/>\r\n      </defs>\r\n      <g transform=\"translate(145.286629 239.238437)scale(0.1 -0.1)\">\r\n       <use xlink:href=\"#DejaVuSans-70\"/>\r\n       <use x=\"57.441406\" xlink:href=\"#DejaVuSans-101\"/>\r\n       <use x=\"118.964844\" xlink:href=\"#DejaVuSans-98\"/>\r\n      </g>\r\n     </g>\r\n    </g>\r\n    <g id=\"xtick_4\">\r\n     <g id=\"line2d_4\">\r\n      <g>\r\n       <use style=\"stroke:#000000;stroke-width:0.8;\" x=\"246.877857\" xlink:href=\"#m4928951485\" y=\"224.64\"/>\r\n      </g>\r\n     </g>\r\n     <g id=\"text_3\">\r\n      <!-- Mar -->\r\n      <defs>\r\n       <path d=\"M 9.8125 72.90625 \r\nL 24.515625 72.90625 \r\nL 43.109375 23.296875 \r\nL 61.8125 72.90625 \r\nL 76.515625 72.90625 \r\nL 76.515625 0 \r\nL 66.890625 0 \r\nL 66.890625 64.015625 \r\nL 48.09375 14.015625 \r\nL 38.1875 14.015625 \r\nL 19.390625 64.015625 \r\nL 19.390625 0 \r\nL 9.8125 0 \r\nz\r\n\" id=\"DejaVuSans-77\"/>\r\n       <path d=\"M 41.109375 46.296875 \r\nQ 39.59375 47.171875 37.8125 47.578125 \r\nQ 36.03125 48 33.890625 48 \r\nQ 26.265625 48 22.1875 43.046875 \r\nQ 18.109375 38.09375 18.109375 28.8125 \r\nL 18.109375 0 \r\nL 9.078125 0 \r\nL 9.078125 54.6875 \r\nL 18.109375 54.6875 \r\nL 18.109375 46.1875 \r\nQ 20.953125 51.171875 25.484375 53.578125 \r\nQ 30.03125 56 36.53125 56 \r\nQ 37.453125 56 38.578125 55.875 \r\nQ 39.703125 55.765625 41.0625 55.515625 \r\nz\r\n\" id=\"DejaVuSans-114\"/>\r\n      </defs>\r\n      <g transform=\"translate(237.444263 239.238437)scale(0.1 -0.1)\">\r\n       <use xlink:href=\"#DejaVuSans-77\"/>\r\n       <use x=\"86.279297\" xlink:href=\"#DejaVuSans-97\"/>\r\n       <use x=\"147.558594\" xlink:href=\"#DejaVuSans-114\"/>\r\n      </g>\r\n     </g>\r\n    </g>\r\n    <g id=\"xtick_5\">\r\n     <g id=\"line2d_5\">\r\n      <g>\r\n       <use style=\"stroke:#000000;stroke-width:0.8;\" x=\"345.723571\" xlink:href=\"#m4928951485\" y=\"224.64\"/>\r\n      </g>\r\n     </g>\r\n     <g id=\"text_4\">\r\n      <!-- Apr -->\r\n      <defs>\r\n       <path d=\"M 34.1875 63.1875 \r\nL 20.796875 26.90625 \r\nL 47.609375 26.90625 \r\nz\r\nM 28.609375 72.90625 \r\nL 39.796875 72.90625 \r\nL 67.578125 0 \r\nL 57.328125 0 \r\nL 50.6875 18.703125 \r\nL 17.828125 18.703125 \r\nL 11.1875 0 \r\nL 0.78125 0 \r\nz\r\n\" id=\"DejaVuSans-65\"/>\r\n       <path d=\"M 18.109375 8.203125 \r\nL 18.109375 -20.796875 \r\nL 9.078125 -20.796875 \r\nL 9.078125 54.6875 \r\nL 18.109375 54.6875 \r\nL 18.109375 46.390625 \r\nQ 20.953125 51.265625 25.265625 53.625 \r\nQ 29.59375 56 35.59375 56 \r\nQ 45.5625 56 51.78125 48.09375 \r\nQ 58.015625 40.1875 58.015625 27.296875 \r\nQ 58.015625 14.40625 51.78125 6.484375 \r\nQ 45.5625 -1.421875 35.59375 -1.421875 \r\nQ 29.59375 -1.421875 25.265625 0.953125 \r\nQ 20.953125 3.328125 18.109375 8.203125 \r\nz\r\nM 48.6875 27.296875 \r\nQ 48.6875 37.203125 44.609375 42.84375 \r\nQ 40.53125 48.484375 33.40625 48.484375 \r\nQ 26.265625 48.484375 22.1875 42.84375 \r\nQ 18.109375 37.203125 18.109375 27.296875 \r\nQ 18.109375 17.390625 22.1875 11.75 \r\nQ 26.265625 6.109375 33.40625 6.109375 \r\nQ 40.53125 6.109375 44.609375 11.75 \r\nQ 48.6875 17.390625 48.6875 27.296875 \r\nz\r\n\" id=\"DejaVuSans-112\"/>\r\n      </defs>\r\n      <g transform=\"translate(337.073571 239.238437)scale(0.1 -0.1)\">\r\n       <use xlink:href=\"#DejaVuSans-65\"/>\r\n       <use x=\"68.408203\" xlink:href=\"#DejaVuSans-112\"/>\r\n       <use x=\"131.884766\" xlink:href=\"#DejaVuSans-114\"/>\r\n      </g>\r\n     </g>\r\n    </g>\r\n    <g id=\"xtick_6\">\r\n     <g id=\"line2d_6\">\r\n      <g>\r\n       <use style=\"stroke:#000000;stroke-width:0.8;\" x=\"387.175\" xlink:href=\"#m4928951485\" y=\"224.64\"/>\r\n      </g>\r\n     </g>\r\n    </g>\r\n    <g id=\"xtick_7\">\r\n     <g id=\"line2d_7\">\r\n      <defs>\r\n       <path d=\"M 0 0 \r\nL 0 2 \r\n\" id=\"mee0dd710f9\" style=\"stroke:#000000;stroke-width:0.6;\"/>\r\n      </defs>\r\n      <g>\r\n       <use style=\"stroke:#000000;stroke-width:0.6;\" x=\"71.506429\" xlink:href=\"#mee0dd710f9\" y=\"224.64\"/>\r\n      </g>\r\n     </g>\r\n    </g>\r\n    <g id=\"xtick_8\">\r\n     <g id=\"line2d_8\">\r\n      <g>\r\n       <use style=\"stroke:#000000;stroke-width:0.6;\" x=\"93.826429\" xlink:href=\"#mee0dd710f9\" y=\"224.64\"/>\r\n      </g>\r\n     </g>\r\n    </g>\r\n    <g id=\"xtick_9\">\r\n     <g id=\"line2d_9\">\r\n      <g>\r\n       <use style=\"stroke:#000000;stroke-width:0.6;\" x=\"116.146429\" xlink:href=\"#mee0dd710f9\" y=\"224.64\"/>\r\n      </g>\r\n     </g>\r\n    </g>\r\n    <g id=\"xtick_10\">\r\n     <g id=\"line2d_10\">\r\n      <g>\r\n       <use style=\"stroke:#000000;stroke-width:0.6;\" x=\"138.466429\" xlink:href=\"#mee0dd710f9\" y=\"224.64\"/>\r\n      </g>\r\n     </g>\r\n    </g>\r\n    <g id=\"xtick_11\">\r\n     <g id=\"line2d_11\">\r\n      <g>\r\n       <use style=\"stroke:#000000;stroke-width:0.6;\" x=\"160.786429\" xlink:href=\"#mee0dd710f9\" y=\"224.64\"/>\r\n      </g>\r\n     </g>\r\n    </g>\r\n    <g id=\"xtick_12\">\r\n     <g id=\"line2d_12\">\r\n      <g>\r\n       <use style=\"stroke:#000000;stroke-width:0.6;\" x=\"183.106429\" xlink:href=\"#mee0dd710f9\" y=\"224.64\"/>\r\n      </g>\r\n     </g>\r\n    </g>\r\n    <g id=\"xtick_13\">\r\n     <g id=\"line2d_13\">\r\n      <g>\r\n       <use style=\"stroke:#000000;stroke-width:0.6;\" x=\"205.426429\" xlink:href=\"#mee0dd710f9\" y=\"224.64\"/>\r\n      </g>\r\n     </g>\r\n    </g>\r\n    <g id=\"xtick_14\">\r\n     <g id=\"line2d_14\">\r\n      <g>\r\n       <use style=\"stroke:#000000;stroke-width:0.6;\" x=\"227.746429\" xlink:href=\"#mee0dd710f9\" y=\"224.64\"/>\r\n      </g>\r\n     </g>\r\n    </g>\r\n    <g id=\"xtick_15\">\r\n     <g id=\"line2d_15\">\r\n      <g>\r\n       <use style=\"stroke:#000000;stroke-width:0.6;\" x=\"250.066429\" xlink:href=\"#mee0dd710f9\" y=\"224.64\"/>\r\n      </g>\r\n     </g>\r\n    </g>\r\n    <g id=\"xtick_16\">\r\n     <g id=\"line2d_16\">\r\n      <g>\r\n       <use style=\"stroke:#000000;stroke-width:0.6;\" x=\"272.386429\" xlink:href=\"#mee0dd710f9\" y=\"224.64\"/>\r\n      </g>\r\n     </g>\r\n    </g>\r\n    <g id=\"xtick_17\">\r\n     <g id=\"line2d_17\">\r\n      <g>\r\n       <use style=\"stroke:#000000;stroke-width:0.6;\" x=\"294.706429\" xlink:href=\"#mee0dd710f9\" y=\"224.64\"/>\r\n      </g>\r\n     </g>\r\n    </g>\r\n    <g id=\"xtick_18\">\r\n     <g id=\"line2d_18\">\r\n      <g>\r\n       <use style=\"stroke:#000000;stroke-width:0.6;\" x=\"317.026429\" xlink:href=\"#mee0dd710f9\" y=\"224.64\"/>\r\n      </g>\r\n     </g>\r\n    </g>\r\n    <g id=\"xtick_19\">\r\n     <g id=\"line2d_19\">\r\n      <g>\r\n       <use style=\"stroke:#000000;stroke-width:0.6;\" x=\"339.346429\" xlink:href=\"#mee0dd710f9\" y=\"224.64\"/>\r\n      </g>\r\n     </g>\r\n    </g>\r\n    <g id=\"xtick_20\">\r\n     <g id=\"line2d_20\">\r\n      <g>\r\n       <use style=\"stroke:#000000;stroke-width:0.6;\" x=\"361.666429\" xlink:href=\"#mee0dd710f9\" y=\"224.64\"/>\r\n      </g>\r\n     </g>\r\n    </g>\r\n    <g id=\"xtick_21\">\r\n     <g id=\"line2d_21\">\r\n      <g>\r\n       <use style=\"stroke:#000000;stroke-width:0.6;\" x=\"383.986429\" xlink:href=\"#mee0dd710f9\" y=\"224.64\"/>\r\n      </g>\r\n     </g>\r\n    </g>\r\n    <g id=\"text_5\">\r\n     <!-- dateRep -->\r\n     <defs>\r\n      <path d=\"M 45.40625 46.390625 \r\nL 45.40625 75.984375 \r\nL 54.390625 75.984375 \r\nL 54.390625 0 \r\nL 45.40625 0 \r\nL 45.40625 8.203125 \r\nQ 42.578125 3.328125 38.25 0.953125 \r\nQ 33.9375 -1.421875 27.875 -1.421875 \r\nQ 17.96875 -1.421875 11.734375 6.484375 \r\nQ 5.515625 14.40625 5.515625 27.296875 \r\nQ 5.515625 40.1875 11.734375 48.09375 \r\nQ 17.96875 56 27.875 56 \r\nQ 33.9375 56 38.25 53.625 \r\nQ 42.578125 51.265625 45.40625 46.390625 \r\nz\r\nM 14.796875 27.296875 \r\nQ 14.796875 17.390625 18.875 11.75 \r\nQ 22.953125 6.109375 30.078125 6.109375 \r\nQ 37.203125 6.109375 41.296875 11.75 \r\nQ 45.40625 17.390625 45.40625 27.296875 \r\nQ 45.40625 37.203125 41.296875 42.84375 \r\nQ 37.203125 48.484375 30.078125 48.484375 \r\nQ 22.953125 48.484375 18.875 42.84375 \r\nQ 14.796875 37.203125 14.796875 27.296875 \r\nz\r\n\" id=\"DejaVuSans-100\"/>\r\n      <path d=\"M 18.3125 70.21875 \r\nL 18.3125 54.6875 \r\nL 36.8125 54.6875 \r\nL 36.8125 47.703125 \r\nL 18.3125 47.703125 \r\nL 18.3125 18.015625 \r\nQ 18.3125 11.328125 20.140625 9.421875 \r\nQ 21.96875 7.515625 27.59375 7.515625 \r\nL 36.8125 7.515625 \r\nL 36.8125 0 \r\nL 27.59375 0 \r\nQ 17.1875 0 13.234375 3.875 \r\nQ 9.28125 7.765625 9.28125 18.015625 \r\nL 9.28125 47.703125 \r\nL 2.6875 47.703125 \r\nL 2.6875 54.6875 \r\nL 9.28125 54.6875 \r\nL 9.28125 70.21875 \r\nz\r\n\" id=\"DejaVuSans-116\"/>\r\n      <path d=\"M 44.390625 34.1875 \r\nQ 47.5625 33.109375 50.5625 29.59375 \r\nQ 53.5625 26.078125 56.59375 19.921875 \r\nL 66.609375 0 \r\nL 56 0 \r\nL 46.6875 18.703125 \r\nQ 43.0625 26.03125 39.671875 28.421875 \r\nQ 36.28125 30.8125 30.421875 30.8125 \r\nL 19.671875 30.8125 \r\nL 19.671875 0 \r\nL 9.8125 0 \r\nL 9.8125 72.90625 \r\nL 32.078125 72.90625 \r\nQ 44.578125 72.90625 50.734375 67.671875 \r\nQ 56.890625 62.453125 56.890625 51.90625 \r\nQ 56.890625 45.015625 53.6875 40.46875 \r\nQ 50.484375 35.9375 44.390625 34.1875 \r\nz\r\nM 19.671875 64.796875 \r\nL 19.671875 38.921875 \r\nL 32.078125 38.921875 \r\nQ 39.203125 38.921875 42.84375 42.21875 \r\nQ 46.484375 45.515625 46.484375 51.90625 \r\nQ 46.484375 58.296875 42.84375 61.546875 \r\nQ 39.203125 64.796875 32.078125 64.796875 \r\nz\r\n\" id=\"DejaVuSans-82\"/>\r\n     </defs>\r\n     <g transform=\"translate(198.778125 264.114375)scale(0.1 -0.1)\">\r\n      <use xlink:href=\"#DejaVuSans-100\"/>\r\n      <use x=\"63.476562\" xlink:href=\"#DejaVuSans-97\"/>\r\n      <use x=\"124.755859\" xlink:href=\"#DejaVuSans-116\"/>\r\n      <use x=\"163.964844\" xlink:href=\"#DejaVuSans-101\"/>\r\n      <use x=\"225.488281\" xlink:href=\"#DejaVuSans-82\"/>\r\n      <use x=\"294.908203\" xlink:href=\"#DejaVuSans-101\"/>\r\n      <use x=\"356.431641\" xlink:href=\"#DejaVuSans-112\"/>\r\n     </g>\r\n    </g>\r\n   </g>\r\n   <g id=\"matplotlib.axis_2\">\r\n    <g id=\"ytick_1\">\r\n     <g id=\"line2d_22\">\r\n      <defs>\r\n       <path d=\"M 0 0 \r\nL -3.5 0 \r\n\" id=\"mce99ee3e70\" style=\"stroke:#000000;stroke-width:0.8;\"/>\r\n      </defs>\r\n      <g>\r\n       <use style=\"stroke:#000000;stroke-width:0.8;\" x=\"52.375\" xlink:href=\"#mce99ee3e70\" y=\"214.756364\"/>\r\n      </g>\r\n     </g>\r\n     <g id=\"text_6\">\r\n      <!-- 0 -->\r\n      <g transform=\"translate(39.0125 218.555582)scale(0.1 -0.1)\">\r\n       <use xlink:href=\"#DejaVuSans-48\"/>\r\n      </g>\r\n     </g>\r\n    </g>\r\n    <g id=\"ytick_2\">\r\n     <g id=\"line2d_23\">\r\n      <g>\r\n       <use style=\"stroke:#000000;stroke-width:0.8;\" x=\"52.375\" xlink:href=\"#mce99ee3e70\" y=\"183.153504\"/>\r\n      </g>\r\n     </g>\r\n     <g id=\"text_7\">\r\n      <!-- 20000 -->\r\n      <g transform=\"translate(13.5625 186.952723)scale(0.1 -0.1)\">\r\n       <use xlink:href=\"#DejaVuSans-50\"/>\r\n       <use x=\"63.623047\" xlink:href=\"#DejaVuSans-48\"/>\r\n       <use x=\"127.246094\" xlink:href=\"#DejaVuSans-48\"/>\r\n       <use x=\"190.869141\" xlink:href=\"#DejaVuSans-48\"/>\r\n       <use x=\"254.492188\" xlink:href=\"#DejaVuSans-48\"/>\r\n      </g>\r\n     </g>\r\n    </g>\r\n    <g id=\"ytick_3\">\r\n     <g id=\"line2d_24\">\r\n      <g>\r\n       <use style=\"stroke:#000000;stroke-width:0.8;\" x=\"52.375\" xlink:href=\"#mce99ee3e70\" y=\"151.550644\"/>\r\n      </g>\r\n     </g>\r\n     <g id=\"text_8\">\r\n      <!-- 40000 -->\r\n      <defs>\r\n       <path d=\"M 37.796875 64.3125 \r\nL 12.890625 25.390625 \r\nL 37.796875 25.390625 \r\nz\r\nM 35.203125 72.90625 \r\nL 47.609375 72.90625 \r\nL 47.609375 25.390625 \r\nL 58.015625 25.390625 \r\nL 58.015625 17.1875 \r\nL 47.609375 17.1875 \r\nL 47.609375 0 \r\nL 37.796875 0 \r\nL 37.796875 17.1875 \r\nL 4.890625 17.1875 \r\nL 4.890625 26.703125 \r\nz\r\n\" id=\"DejaVuSans-52\"/>\r\n      </defs>\r\n      <g transform=\"translate(13.5625 155.349863)scale(0.1 -0.1)\">\r\n       <use xlink:href=\"#DejaVuSans-52\"/>\r\n       <use x=\"63.623047\" xlink:href=\"#DejaVuSans-48\"/>\r\n       <use x=\"127.246094\" xlink:href=\"#DejaVuSans-48\"/>\r\n       <use x=\"190.869141\" xlink:href=\"#DejaVuSans-48\"/>\r\n       <use x=\"254.492188\" xlink:href=\"#DejaVuSans-48\"/>\r\n      </g>\r\n     </g>\r\n    </g>\r\n    <g id=\"ytick_4\">\r\n     <g id=\"line2d_25\">\r\n      <g>\r\n       <use style=\"stroke:#000000;stroke-width:0.8;\" x=\"52.375\" xlink:href=\"#mce99ee3e70\" y=\"119.947784\"/>\r\n      </g>\r\n     </g>\r\n     <g id=\"text_9\">\r\n      <!-- 60000 -->\r\n      <defs>\r\n       <path d=\"M 33.015625 40.375 \r\nQ 26.375 40.375 22.484375 35.828125 \r\nQ 18.609375 31.296875 18.609375 23.390625 \r\nQ 18.609375 15.53125 22.484375 10.953125 \r\nQ 26.375 6.390625 33.015625 6.390625 \r\nQ 39.65625 6.390625 43.53125 10.953125 \r\nQ 47.40625 15.53125 47.40625 23.390625 \r\nQ 47.40625 31.296875 43.53125 35.828125 \r\nQ 39.65625 40.375 33.015625 40.375 \r\nz\r\nM 52.59375 71.296875 \r\nL 52.59375 62.3125 \r\nQ 48.875 64.0625 45.09375 64.984375 \r\nQ 41.3125 65.921875 37.59375 65.921875 \r\nQ 27.828125 65.921875 22.671875 59.328125 \r\nQ 17.53125 52.734375 16.796875 39.40625 \r\nQ 19.671875 43.65625 24.015625 45.921875 \r\nQ 28.375 48.1875 33.59375 48.1875 \r\nQ 44.578125 48.1875 50.953125 41.515625 \r\nQ 57.328125 34.859375 57.328125 23.390625 \r\nQ 57.328125 12.15625 50.6875 5.359375 \r\nQ 44.046875 -1.421875 33.015625 -1.421875 \r\nQ 20.359375 -1.421875 13.671875 8.265625 \r\nQ 6.984375 17.96875 6.984375 36.375 \r\nQ 6.984375 53.65625 15.1875 63.9375 \r\nQ 23.390625 74.21875 37.203125 74.21875 \r\nQ 40.921875 74.21875 44.703125 73.484375 \r\nQ 48.484375 72.75 52.59375 71.296875 \r\nz\r\n\" id=\"DejaVuSans-54\"/>\r\n      </defs>\r\n      <g transform=\"translate(13.5625 123.747003)scale(0.1 -0.1)\">\r\n       <use xlink:href=\"#DejaVuSans-54\"/>\r\n       <use x=\"63.623047\" xlink:href=\"#DejaVuSans-48\"/>\r\n       <use x=\"127.246094\" xlink:href=\"#DejaVuSans-48\"/>\r\n       <use x=\"190.869141\" xlink:href=\"#DejaVuSans-48\"/>\r\n       <use x=\"254.492188\" xlink:href=\"#DejaVuSans-48\"/>\r\n      </g>\r\n     </g>\r\n    </g>\r\n    <g id=\"ytick_5\">\r\n     <g id=\"line2d_26\">\r\n      <g>\r\n       <use style=\"stroke:#000000;stroke-width:0.8;\" x=\"52.375\" xlink:href=\"#mce99ee3e70\" y=\"88.344925\"/>\r\n      </g>\r\n     </g>\r\n     <g id=\"text_10\">\r\n      <!-- 80000 -->\r\n      <defs>\r\n       <path d=\"M 31.78125 34.625 \r\nQ 24.75 34.625 20.71875 30.859375 \r\nQ 16.703125 27.09375 16.703125 20.515625 \r\nQ 16.703125 13.921875 20.71875 10.15625 \r\nQ 24.75 6.390625 31.78125 6.390625 \r\nQ 38.8125 6.390625 42.859375 10.171875 \r\nQ 46.921875 13.96875 46.921875 20.515625 \r\nQ 46.921875 27.09375 42.890625 30.859375 \r\nQ 38.875 34.625 31.78125 34.625 \r\nz\r\nM 21.921875 38.8125 \r\nQ 15.578125 40.375 12.03125 44.71875 \r\nQ 8.5 49.078125 8.5 55.328125 \r\nQ 8.5 64.0625 14.71875 69.140625 \r\nQ 20.953125 74.21875 31.78125 74.21875 \r\nQ 42.671875 74.21875 48.875 69.140625 \r\nQ 55.078125 64.0625 55.078125 55.328125 \r\nQ 55.078125 49.078125 51.53125 44.71875 \r\nQ 48 40.375 41.703125 38.8125 \r\nQ 48.828125 37.15625 52.796875 32.3125 \r\nQ 56.78125 27.484375 56.78125 20.515625 \r\nQ 56.78125 9.90625 50.3125 4.234375 \r\nQ 43.84375 -1.421875 31.78125 -1.421875 \r\nQ 19.734375 -1.421875 13.25 4.234375 \r\nQ 6.78125 9.90625 6.78125 20.515625 \r\nQ 6.78125 27.484375 10.78125 32.3125 \r\nQ 14.796875 37.15625 21.921875 38.8125 \r\nz\r\nM 18.3125 54.390625 \r\nQ 18.3125 48.734375 21.84375 45.5625 \r\nQ 25.390625 42.390625 31.78125 42.390625 \r\nQ 38.140625 42.390625 41.71875 45.5625 \r\nQ 45.3125 48.734375 45.3125 54.390625 \r\nQ 45.3125 60.0625 41.71875 63.234375 \r\nQ 38.140625 66.40625 31.78125 66.40625 \r\nQ 25.390625 66.40625 21.84375 63.234375 \r\nQ 18.3125 60.0625 18.3125 54.390625 \r\nz\r\n\" id=\"DejaVuSans-56\"/>\r\n      </defs>\r\n      <g transform=\"translate(13.5625 92.144143)scale(0.1 -0.1)\">\r\n       <use xlink:href=\"#DejaVuSans-56\"/>\r\n       <use x=\"63.623047\" xlink:href=\"#DejaVuSans-48\"/>\r\n       <use x=\"127.246094\" xlink:href=\"#DejaVuSans-48\"/>\r\n       <use x=\"190.869141\" xlink:href=\"#DejaVuSans-48\"/>\r\n       <use x=\"254.492188\" xlink:href=\"#DejaVuSans-48\"/>\r\n      </g>\r\n     </g>\r\n    </g>\r\n    <g id=\"ytick_6\">\r\n     <g id=\"line2d_27\">\r\n      <g>\r\n       <use style=\"stroke:#000000;stroke-width:0.8;\" x=\"52.375\" xlink:href=\"#mce99ee3e70\" y=\"56.742065\"/>\r\n      </g>\r\n     </g>\r\n     <g id=\"text_11\">\r\n      <!-- 100000 -->\r\n      <defs>\r\n       <path d=\"M 12.40625 8.296875 \r\nL 28.515625 8.296875 \r\nL 28.515625 63.921875 \r\nL 10.984375 60.40625 \r\nL 10.984375 69.390625 \r\nL 28.421875 72.90625 \r\nL 38.28125 72.90625 \r\nL 38.28125 8.296875 \r\nL 54.390625 8.296875 \r\nL 54.390625 0 \r\nL 12.40625 0 \r\nz\r\n\" id=\"DejaVuSans-49\"/>\r\n      </defs>\r\n      <g transform=\"translate(7.2 60.541284)scale(0.1 -0.1)\">\r\n       <use xlink:href=\"#DejaVuSans-49\"/>\r\n       <use x=\"63.623047\" xlink:href=\"#DejaVuSans-48\"/>\r\n       <use x=\"127.246094\" xlink:href=\"#DejaVuSans-48\"/>\r\n       <use x=\"190.869141\" xlink:href=\"#DejaVuSans-48\"/>\r\n       <use x=\"254.492188\" xlink:href=\"#DejaVuSans-48\"/>\r\n       <use x=\"318.115234\" xlink:href=\"#DejaVuSans-48\"/>\r\n      </g>\r\n     </g>\r\n    </g>\r\n    <g id=\"ytick_7\">\r\n     <g id=\"line2d_28\">\r\n      <g>\r\n       <use style=\"stroke:#000000;stroke-width:0.8;\" x=\"52.375\" xlink:href=\"#mce99ee3e70\" y=\"25.139205\"/>\r\n      </g>\r\n     </g>\r\n     <g id=\"text_12\">\r\n      <!-- 120000 -->\r\n      <g transform=\"translate(7.2 28.938424)scale(0.1 -0.1)\">\r\n       <use xlink:href=\"#DejaVuSans-49\"/>\r\n       <use x=\"63.623047\" xlink:href=\"#DejaVuSans-50\"/>\r\n       <use x=\"127.246094\" xlink:href=\"#DejaVuSans-48\"/>\r\n       <use x=\"190.869141\" xlink:href=\"#DejaVuSans-48\"/>\r\n       <use x=\"254.492188\" xlink:href=\"#DejaVuSans-48\"/>\r\n       <use x=\"318.115234\" xlink:href=\"#DejaVuSans-48\"/>\r\n      </g>\r\n     </g>\r\n    </g>\r\n   </g>\r\n   <g id=\"line2d_29\">\r\n    <path clip-path=\"url(#p3b3a19fa74)\" d=\"M 52.375 214.756364 \r\nL 55.563571 214.756364 \r\nL 58.752143 214.756364 \r\nL 61.940714 214.756364 \r\nL 65.129286 214.756364 \r\nL 68.317857 214.756364 \r\nL 71.506429 214.756364 \r\nL 74.695 214.756364 \r\nL 77.883571 214.756364 \r\nL 81.072143 214.756364 \r\nL 84.260714 214.756364 \r\nL 87.449286 214.756364 \r\nL 90.637857 214.756364 \r\nL 93.826429 214.756364 \r\nL 97.015 214.756364 \r\nL 100.203571 214.756364 \r\nL 103.392143 214.756364 \r\nL 106.580714 214.756364 \r\nL 109.769286 214.756364 \r\nL 112.957857 214.756364 \r\nL 116.146429 214.756364 \r\nL 119.335 214.756364 \r\nL 122.523571 214.756364 \r\nL 125.712143 214.756364 \r\nL 128.900714 214.756364 \r\nL 132.089286 214.756364 \r\nL 135.277857 214.756364 \r\nL 138.466429 214.756364 \r\nL 141.655 214.754783 \r\nL 144.843571 214.750043 \r\nL 148.032143 214.750043 \r\nL 151.220714 214.748463 \r\nL 154.409286 214.745303 \r\nL 157.597857 214.743722 \r\nL 160.786429 214.742142 \r\nL 163.975 214.738982 \r\nL 167.163571 214.738982 \r\nL 170.352143 214.738982 \r\nL 173.540714 214.737402 \r\nL 176.729286 214.735822 \r\nL 179.917857 214.735822 \r\nL 183.106429 214.735822 \r\nL 186.295 214.735822 \r\nL 189.483571 214.732661 \r\nL 192.672143 214.732661 \r\nL 195.860714 214.732661 \r\nL 199.049286 214.732661 \r\nL 202.237857 214.732661 \r\nL 205.426429 214.732661 \r\nL 208.615 214.732661 \r\nL 211.803571 214.732661 \r\nL 214.992143 214.732661 \r\nL 218.180714 214.732661 \r\nL 221.369286 214.732661 \r\nL 224.557857 214.732661 \r\nL 227.746429 214.732661 \r\nL 230.935 214.732661 \r\nL 234.123571 214.729501 \r\nL 237.312143 214.723181 \r\nL 240.500714 214.682097 \r\nL 243.689286 214.666295 \r\nL 246.877857 214.580968 \r\nL 250.066429 214.552525 \r\nL 253.255 214.508281 \r\nL 256.443571 214.446656 \r\nL 259.632143 214.342366 \r\nL 262.820714 214.124306 \r\nL 266.009286 213.675546 \r\nL 269.197857 213.417983 \r\nL 272.386429 213.331075 \r\nL 275.575 212.956581 \r\nL 278.763571 212.708498 \r\nL 281.952143 212.28028 \r\nL 285.140714 211.013005 \r\nL 288.329286 209.917966 \r\nL 291.517857 208.759721 \r\nL 294.706429 207.111632 \r\nL 297.895 205.256544 \r\nL 301.083571 203.44886 \r\nL 304.272143 201.802351 \r\nL 307.460714 192.416302 \r\nL 310.649286 186.018303 \r\nL 313.837857 180.841755 \r\nL 317.026429 175.609901 \r\nL 320.215 168.597227 \r\nL 323.403571 164.896532 \r\nL 326.592143 157.068504 \r\nL 329.780714 147.935277 \r\nL 332.969286 137.989857 \r\nL 336.157857 131.72459 \r\nL 339.346429 124.217331 \r\nL 342.535 116.924971 \r\nL 345.723571 108.308451 \r\nL 348.912143 98.581091 \r\nL 352.100714 88.825288 \r\nL 355.289286 79.214859 \r\nL 358.477857 69.83513 \r\nL 361.666429 64.024944 \r\nL 364.855 57.966676 \r\nL 368.043571 51.641363 \r\nL 371.232143 43.781732 \r\nL 374.420714 35.370631 \r\nL 377.609286 28.8399 \r\nL 380.797857 24.382317 \r\nL 383.986429 20.373494 \r\nL 387.175 17.083636 \r\n\" style=\"fill:none;stroke:#1f77b4;stroke-linecap:square;stroke-width:1.5;\"/>\r\n   </g>\r\n   <g id=\"line2d_30\">\r\n    <path clip-path=\"url(#p3b3a19fa74)\" d=\"M 52.375 214.756364 \r\nL 55.563571 214.756364 \r\nL 58.752143 214.756364 \r\nL 61.940714 214.756364 \r\nL 65.129286 214.756364 \r\nL 68.317857 214.756364 \r\nL 71.506429 214.756364 \r\nL 74.695 214.756364 \r\nL 77.883571 214.756364 \r\nL 81.072143 214.756364 \r\nL 84.260714 214.756364 \r\nL 87.449286 214.756364 \r\nL 90.637857 214.756364 \r\nL 93.826429 214.756364 \r\nL 97.015 214.756364 \r\nL 100.203571 214.756364 \r\nL 103.392143 214.756364 \r\nL 106.580714 214.756364 \r\nL 109.769286 214.756364 \r\nL 112.957857 214.756364 \r\nL 116.146429 214.756364 \r\nL 119.335 214.756364 \r\nL 122.523571 214.756364 \r\nL 125.712143 214.756364 \r\nL 128.900714 214.756364 \r\nL 132.089286 214.756364 \r\nL 135.277857 214.756364 \r\nL 138.466429 214.756364 \r\nL 141.655 214.756364 \r\nL 144.843571 214.756364 \r\nL 148.032143 214.756364 \r\nL 151.220714 214.756364 \r\nL 154.409286 214.756364 \r\nL 157.597857 214.756364 \r\nL 160.786429 214.756364 \r\nL 163.975 214.756364 \r\nL 167.163571 214.756364 \r\nL 170.352143 214.756364 \r\nL 173.540714 214.756364 \r\nL 176.729286 214.756364 \r\nL 179.917857 214.756364 \r\nL 183.106429 214.756364 \r\nL 186.295 214.756364 \r\nL 189.483571 214.756364 \r\nL 192.672143 214.756364 \r\nL 195.860714 214.756364 \r\nL 199.049286 214.756364 \r\nL 202.237857 214.756364 \r\nL 205.426429 214.756364 \r\nL 208.615 214.756364 \r\nL 211.803571 214.756364 \r\nL 214.992143 214.756364 \r\nL 218.180714 214.756364 \r\nL 221.369286 214.756364 \r\nL 224.557857 214.756364 \r\nL 227.746429 214.756364 \r\nL 230.935 214.756364 \r\nL 234.123571 214.756364 \r\nL 237.312143 214.756364 \r\nL 240.500714 214.756364 \r\nL 243.689286 214.756364 \r\nL 246.877857 214.756364 \r\nL 250.066429 214.756364 \r\nL 253.255 214.756364 \r\nL 256.443571 214.756364 \r\nL 259.632143 214.756364 \r\nL 262.820714 214.756364 \r\nL 266.009286 214.756364 \r\nL 269.197857 214.756364 \r\nL 272.386429 214.756364 \r\nL 275.575 214.753203 \r\nL 278.763571 214.753203 \r\nL 281.952143 214.751623 \r\nL 285.140714 214.748463 \r\nL 288.329286 214.748463 \r\nL 291.517857 214.743722 \r\nL 294.706429 214.737402 \r\nL 297.895 214.735822 \r\nL 301.083571 214.735822 \r\nL 304.272143 214.735822 \r\nL 307.460714 214.688417 \r\nL 310.649286 214.685257 \r\nL 313.837857 214.650494 \r\nL 317.026429 214.60783 \r\nL 320.215 214.557266 \r\nL 323.403571 214.520922 \r\nL 326.592143 214.443495 \r\nL 329.780714 214.356587 \r\nL 332.969286 214.242817 \r\nL 336.157857 214.141688 \r\nL 339.346429 214.037399 \r\nL 342.535 213.83514 \r\nL 345.723571 213.599699 \r\nL 348.912143 213.378479 \r\nL 352.100714 213.149358 \r\nL 355.289286 212.926558 \r\nL 358.477857 212.635812 \r\nL 361.666429 212.490439 \r\nL 364.855 212.217074 \r\nL 368.043571 211.815718 \r\nL 371.232143 211.427002 \r\nL 374.420714 211.006684 \r\nL 377.609286 210.73648 \r\nL 380.797857 210.532641 \r\nL 383.986429 210.333543 \r\nL 387.175 210.064919 \r\n\" style=\"fill:none;stroke:#ff7f0e;stroke-linecap:square;stroke-width:1.5;\"/>\r\n   </g>\r\n   <g id=\"patch_3\">\r\n    <path d=\"M 52.375 224.64 \r\nL 52.375 7.2 \r\n\" style=\"fill:none;stroke:#000000;stroke-linecap:square;stroke-linejoin:miter;stroke-width:0.8;\"/>\r\n   </g>\r\n   <g id=\"patch_4\">\r\n    <path d=\"M 387.175 224.64 \r\nL 387.175 7.2 \r\n\" style=\"fill:none;stroke:#000000;stroke-linecap:square;stroke-linejoin:miter;stroke-width:0.8;\"/>\r\n   </g>\r\n   <g id=\"patch_5\">\r\n    <path d=\"M 52.375 224.64 \r\nL 387.175 224.64 \r\n\" style=\"fill:none;stroke:#000000;stroke-linecap:square;stroke-linejoin:miter;stroke-width:0.8;\"/>\r\n   </g>\r\n   <g id=\"patch_6\">\r\n    <path d=\"M 52.375 7.2 \r\nL 387.175 7.2 \r\n\" style=\"fill:none;stroke:#000000;stroke-linecap:square;stroke-linejoin:miter;stroke-width:0.8;\"/>\r\n   </g>\r\n   <g id=\"legend_1\">\r\n    <g id=\"patch_7\">\r\n     <path d=\"M 59.375 44.55625 \r\nL 137.510938 44.55625 \r\nQ 139.510938 44.55625 139.510938 42.55625 \r\nL 139.510938 14.2 \r\nQ 139.510938 12.2 137.510938 12.2 \r\nL 59.375 12.2 \r\nQ 57.375 12.2 57.375 14.2 \r\nL 57.375 42.55625 \r\nQ 57.375 44.55625 59.375 44.55625 \r\nz\r\n\" style=\"fill:#ffffff;opacity:0.8;stroke:#cccccc;stroke-linejoin:miter;\"/>\r\n    </g>\r\n    <g id=\"line2d_31\">\r\n     <path d=\"M 61.375 20.298438 \r\nL 81.375 20.298438 \r\n\" style=\"fill:none;stroke:#1f77b4;stroke-linecap:square;stroke-width:1.5;\"/>\r\n    </g>\r\n    <g id=\"line2d_32\"/>\r\n    <g id=\"text_13\">\r\n     <!-- Germany -->\r\n     <defs>\r\n      <path d=\"M 59.515625 10.40625 \r\nL 59.515625 29.984375 \r\nL 43.40625 29.984375 \r\nL 43.40625 38.09375 \r\nL 69.28125 38.09375 \r\nL 69.28125 6.78125 \r\nQ 63.578125 2.734375 56.6875 0.65625 \r\nQ 49.8125 -1.421875 42 -1.421875 \r\nQ 24.90625 -1.421875 15.25 8.5625 \r\nQ 5.609375 18.5625 5.609375 36.375 \r\nQ 5.609375 54.25 15.25 64.234375 \r\nQ 24.90625 74.21875 42 74.21875 \r\nQ 49.125 74.21875 55.546875 72.453125 \r\nQ 61.96875 70.703125 67.390625 67.28125 \r\nL 67.390625 56.78125 \r\nQ 61.921875 61.421875 55.765625 63.765625 \r\nQ 49.609375 66.109375 42.828125 66.109375 \r\nQ 29.4375 66.109375 22.71875 58.640625 \r\nQ 16.015625 51.171875 16.015625 36.375 \r\nQ 16.015625 21.625 22.71875 14.15625 \r\nQ 29.4375 6.6875 42.828125 6.6875 \r\nQ 48.046875 6.6875 52.140625 7.59375 \r\nQ 56.25 8.5 59.515625 10.40625 \r\nz\r\n\" id=\"DejaVuSans-71\"/>\r\n      <path d=\"M 52 44.1875 \r\nQ 55.375 50.25 60.0625 53.125 \r\nQ 64.75 56 71.09375 56 \r\nQ 79.640625 56 84.28125 50.015625 \r\nQ 88.921875 44.046875 88.921875 33.015625 \r\nL 88.921875 0 \r\nL 79.890625 0 \r\nL 79.890625 32.71875 \r\nQ 79.890625 40.578125 77.09375 44.375 \r\nQ 74.3125 48.1875 68.609375 48.1875 \r\nQ 61.625 48.1875 57.5625 43.546875 \r\nQ 53.515625 38.921875 53.515625 30.90625 \r\nL 53.515625 0 \r\nL 44.484375 0 \r\nL 44.484375 32.71875 \r\nQ 44.484375 40.625 41.703125 44.40625 \r\nQ 38.921875 48.1875 33.109375 48.1875 \r\nQ 26.21875 48.1875 22.15625 43.53125 \r\nQ 18.109375 38.875 18.109375 30.90625 \r\nL 18.109375 0 \r\nL 9.078125 0 \r\nL 9.078125 54.6875 \r\nL 18.109375 54.6875 \r\nL 18.109375 46.1875 \r\nQ 21.1875 51.21875 25.484375 53.609375 \r\nQ 29.78125 56 35.6875 56 \r\nQ 41.65625 56 45.828125 52.96875 \r\nQ 50 49.953125 52 44.1875 \r\nz\r\n\" id=\"DejaVuSans-109\"/>\r\n      <path d=\"M 32.171875 -5.078125 \r\nQ 28.375 -14.84375 24.75 -17.8125 \r\nQ 21.140625 -20.796875 15.09375 -20.796875 \r\nL 7.90625 -20.796875 \r\nL 7.90625 -13.28125 \r\nL 13.1875 -13.28125 \r\nQ 16.890625 -13.28125 18.9375 -11.515625 \r\nQ 21 -9.765625 23.484375 -3.21875 \r\nL 25.09375 0.875 \r\nL 2.984375 54.6875 \r\nL 12.5 54.6875 \r\nL 29.59375 11.921875 \r\nL 46.6875 54.6875 \r\nL 56.203125 54.6875 \r\nz\r\n\" id=\"DejaVuSans-121\"/>\r\n     </defs>\r\n     <g transform=\"translate(89.375 23.798438)scale(0.1 -0.1)\">\r\n      <use xlink:href=\"#DejaVuSans-71\"/>\r\n      <use x=\"77.490234\" xlink:href=\"#DejaVuSans-101\"/>\r\n      <use x=\"139.013672\" xlink:href=\"#DejaVuSans-114\"/>\r\n      <use x=\"180.111328\" xlink:href=\"#DejaVuSans-109\"/>\r\n      <use x=\"277.523438\" xlink:href=\"#DejaVuSans-97\"/>\r\n      <use x=\"338.802734\" xlink:href=\"#DejaVuSans-110\"/>\r\n      <use x=\"402.181641\" xlink:href=\"#DejaVuSans-121\"/>\r\n     </g>\r\n    </g>\r\n    <g id=\"line2d_33\">\r\n     <path d=\"M 61.375 34.976562 \r\nL 81.375 34.976562 \r\n\" style=\"fill:none;stroke:#ff7f0e;stroke-linecap:square;stroke-width:1.5;\"/>\r\n    </g>\r\n    <g id=\"line2d_34\"/>\r\n    <g id=\"text_14\">\r\n     <!-- Germany -->\r\n     <g transform=\"translate(89.375 38.476562)scale(0.1 -0.1)\">\r\n      <use xlink:href=\"#DejaVuSans-71\"/>\r\n      <use x=\"77.490234\" xlink:href=\"#DejaVuSans-101\"/>\r\n      <use x=\"139.013672\" xlink:href=\"#DejaVuSans-114\"/>\r\n      <use x=\"180.111328\" xlink:href=\"#DejaVuSans-109\"/>\r\n      <use x=\"277.523438\" xlink:href=\"#DejaVuSans-97\"/>\r\n      <use x=\"338.802734\" xlink:href=\"#DejaVuSans-110\"/>\r\n      <use x=\"402.181641\" xlink:href=\"#DejaVuSans-121\"/>\r\n     </g>\r\n    </g>\r\n   </g>\r\n  </g>\r\n </g>\r\n <defs>\r\n  <clipPath id=\"p3b3a19fa74\">\r\n   <rect height=\"217.44\" width=\"334.8\" x=\"52.375\" y=\"7.2\"/>\r\n  </clipPath>\r\n </defs>\r\n</svg>\r\n",
      "image/png": "[encoded data removed]"
     },
     "metadata": {
      "needs_background": "light"
     }
    }
   ],
   "source": [
    "# gca stands for 'get current axis'\n",
    "ax = plt.gca()\n",
    "\n",
    "df_cases_piv.plot(kind='line',x='dateRep',y='Germany',ax=ax)\n",
    "df_deaths_piv.plot(kind='line',x='dateRep',y='Germany',ax=ax)\n",
    "\n",
    "\n",
    "plt.show()"
   ]
  },
  {
   "cell_type": "code",
   "execution_count": null,
   "metadata": {},
   "outputs": [],
   "source": []
  },
  {
   "cell_type": "code",
   "execution_count": null,
   "metadata": {},
   "outputs": [],
   "source": []
  },
  {
   "cell_type": "code",
   "execution_count": null,
   "metadata": {},
   "outputs": [],
   "source": []
  },
  {
   "cell_type": "markdown",
   "metadata": {},
   "source": [
    "#### Data Preparation Next Steps\n",
    "\n",
    "Further data adjustments are needed to answer the above stated questions of interest. These further data preparation activities will be performed \"by question\" to make it easier for the reader to follow the origianl train of thoughts. "
   ]
  },
  {
   "cell_type": "markdown",
   "metadata": {},
   "source": [
    "## 4. Data Understanding, Preparation, Modeling, Evaluation and Development by Question\n",
    "\n",
    "The further steps of the CRISP-DM model are integrated into each of the 4 questions (see chapter Business Understanding)"
   ]
  }
 ],
 "metadata": {
  "file_extension": ".py",
  "kernelspec": {
   "display_name": "Python 3",
   "language": "python",
   "name": "python3"
  },
  "language_info": {
   "codemirror_mode": {
    "name": "ipython",
    "version": 3
   },
   "file_extension": ".py",
   "mimetype": "text/x-python",
   "name": "python",
   "nbconvert_exporter": "python",
   "pygments_lexer": "ipython3",
   "version": "3.7.4-final"
  },
  "mimetype": "text/x-python",
  "name": "python",
  "npconvert_exporter": "python",
  "pygments_lexer": "ipython3",
  "version": 3
 },
 "nbformat": 4,
 "nbformat_minor": 2
}